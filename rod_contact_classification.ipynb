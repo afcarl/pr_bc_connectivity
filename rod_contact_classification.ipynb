{
 "cells": [
  {
   "cell_type": "markdown",
   "metadata": {},
   "source": [
    "## Rod contact classification\n",
    "This notebook contains the code to reproduce the classification of contacts between rods and bipolar cells, including the cross validation and the plots shown in figure 6"
   ]
  },
  {
   "cell_type": "code",
   "execution_count": 2,
   "metadata": {
    "collapsed": false
   },
   "outputs": [],
   "source": [
    "import numpy as np\n",
    "import scipy.linalg\n",
    "from scipy.stats import itemfreq\n",
    "import matplotlib\n",
    "import matplotlib.pyplot as plt\n",
    "from scipy.io import loadmat\n",
    "import pandas as pd\n",
    "import seaborn as sns\n",
    "from sklearn import cross_validation\n",
    "from sklearn import svm\n",
    "%matplotlib inline\n",
    "matplotlib.rc('font',**{'family':'sans-serif','sans-serif':['Arial']})\n",
    "matplotlib.rcParams.update({'mathtext.default': 'regular'})\n",
    "matplotlib.rcParams.update({'font.size': 14})\n",
    "sns.set_style(\"whitegrid\")"
   ]
  },
  {
   "cell_type": "code",
   "execution_count": 3,
   "metadata": {
    "collapsed": false
   },
   "outputs": [],
   "source": [
    "BC_ids=np.loadtxt('data/BC_IDs_new')"
   ]
  },
  {
   "cell_type": "code",
   "execution_count": 4,
   "metadata": {
    "collapsed": false
   },
   "outputs": [],
   "source": [
    "BC_in_rod_area=np.loadtxt('data/BC_in_rod_area')"
   ]
  },
  {
   "cell_type": "code",
   "execution_count": 5,
   "metadata": {
    "collapsed": false
   },
   "outputs": [],
   "source": [
    "all_contacts=pd.read_pickle('data/rod_contact_data')"
   ]
  },
  {
   "cell_type": "code",
   "execution_count": 6,
   "metadata": {
    "collapsed": false
   },
   "outputs": [],
   "source": [
    "BC_excluded=np.array([691,709,827,836])\n",
    "rod_excluded=np.array([3309])"
   ]
  },
  {
   "cell_type": "code",
   "execution_count": 7,
   "metadata": {
    "collapsed": false
   },
   "outputs": [],
   "source": [
    "contact_summary=all_contacts[np.in1d(all_contacts['cell'],BC_excluded,invert=True)&\\\n",
    "                             np.in1d(all_contacts['cell'],rod_excluded,invert=True)][['cell','rod','type']]\\\n",
    "                            .drop_duplicates().reset_index().drop('index',axis=1)"
   ]
  },
  {
   "cell_type": "code",
   "execution_count": 8,
   "metadata": {
    "collapsed": false
   },
   "outputs": [],
   "source": [
    "contact_summary.loc[(contact_summary['type']<63),'group']='off'\n",
    "contact_summary.loc[(contact_summary['type']>62),'group']='on'\n",
    "contact_summary.loc[(contact_summary['type']==71),'group']='rbc'"
   ]
  },
  {
   "cell_type": "code",
   "execution_count": 9,
   "metadata": {
    "collapsed": false
   },
   "outputs": [],
   "source": [
    "for i in range(contact_summary.shape[0]):\n",
    "    contact_summary.loc[i,'area']=np.sum(all_contacts['area'][(all_contacts['cell']==contact_summary['cell'][i])&(all_contacts['rod']==contact_summary['rod'][i])])"
   ]
  },
  {
   "cell_type": "code",
   "execution_count": 10,
   "metadata": {
    "collapsed": false
   },
   "outputs": [],
   "source": [
    "for i in range(contact_summary.shape[0]):\n",
    "    contact_summary.loc[i,'excentricity']=np.min(all_contacts['excentricity'][(all_contacts['cell']==contact_summary['cell'][i])&(all_contacts['rod']==contact_summary['rod'][i])])"
   ]
  },
  {
   "cell_type": "code",
   "execution_count": 11,
   "metadata": {
    "collapsed": false
   },
   "outputs": [],
   "source": [
    "for i in range(contact_summary.shape[0]):\n",
    "    contact_summary.loc[i,'angle']=np.max(all_contacts['angle'][(all_contacts['cell']==contact_summary['cell'][i])&(all_contacts['rod']==contact_summary['rod'][i])])"
   ]
  },
  {
   "cell_type": "code",
   "execution_count": 12,
   "metadata": {
    "collapsed": false
   },
   "outputs": [],
   "source": [
    "for i in range(contact_summary.shape[0]):\n",
    "    contact_summary.loc[i,'branch_dist']=np.min(all_contacts['branch_dist'][(all_contacts['cell']==contact_summary['cell'][i])&(all_contacts['rod']==contact_summary['rod'][i])])"
   ]
  },
  {
   "cell_type": "code",
   "execution_count": 13,
   "metadata": {
    "collapsed": false
   },
   "outputs": [],
   "source": [
    "for i in range(contact_summary.shape[0]):\n",
    "    contact_summary.loc[i,'end_dist']=np.min(all_contacts['end_dist'][(all_contacts['cell']==contact_summary['cell'][i])&(all_contacts['rod']==contact_summary['rod'][i])])"
   ]
  },
  {
   "cell_type": "code",
   "execution_count": 14,
   "metadata": {
    "collapsed": false
   },
   "outputs": [],
   "source": [
    "for i in range(contact_summary.shape[0]):\n",
    "    if (contact_summary['group'][i]=='on'):\n",
    "        contact_summary.loc[i,'height']=all_contacts['height'][(all_contacts['cell']==contact_summary['cell'][i])&(all_contacts['rod']==contact_summary['rod'][i])\\\n",
    "                                                                   &(all_contacts['angle']==contact_summary['angle'][i])].values[0]\n",
    "    elif (contact_summary['group'][i]=='off'):\n",
    "        contact_summary.loc[i,'height']=np.mean(all_contacts['height'][(all_contacts['cell']==contact_summary['cell'][i])&(all_contacts['rod']==contact_summary['rod'][i])])\n",
    "    else:\n",
    "        contact_summary.loc[i,'height']=all_contacts['height'][(all_contacts['cell']==contact_summary['cell'][i])&(all_contacts['rod']==contact_summary['rod'][i])\\\n",
    "                                                                   &(all_contacts['excentricity']==contact_summary['excentricity'][i])].values[0]"
   ]
  },
  {
   "cell_type": "code",
   "execution_count": 15,
   "metadata": {
    "collapsed": false
   },
   "outputs": [],
   "source": [
    "for i in range(contact_summary.shape[0]):\n",
    "    contact_summary.loc[i,'count']=np.sum((all_contacts['cell']==contact_summary['cell'][i])&(all_contacts['rod']==contact_summary['rod'][i]))"
   ]
  },
  {
   "cell_type": "code",
   "execution_count": 16,
   "metadata": {
    "collapsed": false
   },
   "outputs": [],
   "source": [
    "contact_summary=contact_summary[contact_summary['area']>0].reset_index().drop('index',axis=1)"
   ]
  },
  {
   "cell_type": "code",
   "execution_count": 17,
   "metadata": {
    "collapsed": false
   },
   "outputs": [],
   "source": [
    "contact_summary['area']/=1e6\n",
    "contact_summary['branch_dist']/=1e3\n",
    "contact_summary['branch_dist']=np.clip(contact_summary['branch_dist'],1e-2,1e2)\n",
    "contact_summary['end_dist']/=1e3\n",
    "contact_summary['end_dist']=np.clip(contact_summary['end_dist'],1e-2,1e2)\n",
    "contact_summary['excentricity']/=1e3"
   ]
  },
  {
   "cell_type": "code",
   "execution_count": 18,
   "metadata": {
    "collapsed": false
   },
   "outputs": [],
   "source": [
    "contact_summary_log_norm=contact_summary.copy()\n",
    "contact_summary_log_norm['excentricity']=np.log(contact_summary_log_norm['excentricity'])\n",
    "contact_summary_log_norm['area']=np.log(contact_summary_log_norm['area'])\n",
    "contact_summary_log_norm['branch_dist']=np.log(contact_summary_log_norm['branch_dist'])\n",
    "for i in range(4,contact_summary.shape[1]):\n",
    "    contact_summary_log_norm.ix[:,i]-=np.mean(contact_summary_log_norm.ix[:,i])\n",
    "    contact_summary_log_norm.ix[:,i]/=np.std(contact_summary_log_norm.ix[:,i])"
   ]
  },
  {
   "cell_type": "code",
   "execution_count": 20,
   "metadata": {
    "collapsed": false
   },
   "outputs": [],
   "source": [
    "classified_contacts=np.loadtxt('data/rod_training_data.csv',delimiter=',',usecols=range(4))\n",
    "classified_contacts=pd.DataFrame(classified_contacts,columns=['cell','rod','type','class'])\n",
    "classified_contacts=classified_contacts[np.in1d(classified_contacts['cell'],BC_excluded,invert=True)].reset_index().drop('index',axis=1)"
   ]
  },
  {
   "cell_type": "code",
   "execution_count": 21,
   "metadata": {
    "collapsed": false
   },
   "outputs": [],
   "source": [
    "classified_contacts.loc[:,'group']=''\n",
    "classified_contacts.loc[:,'area']=0\n",
    "classified_contacts.loc[:,'excentricity']=0\n",
    "classified_contacts.loc[:,'angle']=0\n",
    "classified_contacts.loc[:,'branch_dist']=0\n",
    "classified_contacts.loc[:,'end_dist']=0\n",
    "classified_contacts.loc[:,'height']=0\n",
    "classified_contacts.loc[:,'count']=0\n",
    "cc_log_norm=classified_contacts.copy()"
   ]
  },
  {
   "cell_type": "code",
   "execution_count": 22,
   "metadata": {
    "collapsed": false
   },
   "outputs": [],
   "source": [
    "for i in range(classified_contacts.shape[0]):\n",
    "    try:\n",
    "        classified_contacts.loc[i,'group']=contact_summary['group'][(contact_summary['cell']==classified_contacts['cell'][i])&(contact_summary['rod']==classified_contacts['rod'][i])].values[0]\n",
    "        classified_contacts.loc[i,'area']=contact_summary['area'][(contact_summary['cell']==classified_contacts['cell'][i])&(contact_summary['rod']==classified_contacts['rod'][i])].values[0]\n",
    "        classified_contacts.loc[i,'excentricity']=contact_summary['excentricity'][(contact_summary['cell']==classified_contacts['cell'][i])&(contact_summary['rod']==classified_contacts['rod'][i])].values[0]\n",
    "        classified_contacts.loc[i,'angle']=contact_summary['angle'][(contact_summary['cell']==classified_contacts['cell'][i])&(contact_summary['rod']==classified_contacts['rod'][i])].values[0]\n",
    "        classified_contacts.loc[i,'branch_dist']=contact_summary['branch_dist'][(contact_summary['cell']==classified_contacts['cell'][i])&(contact_summary['rod']==classified_contacts['rod'][i])].values[0]\n",
    "        classified_contacts.loc[i,'end_dist']=contact_summary['end_dist'][(contact_summary['cell']==classified_contacts['cell'][i])&(contact_summary['rod']==classified_contacts['rod'][i])].values[0]\n",
    "        classified_contacts.loc[i,'height']=contact_summary['height'][(contact_summary['cell']==classified_contacts['cell'][i])&(contact_summary['rod']==classified_contacts['rod'][i])].values[0]\n",
    "        classified_contacts.loc[i,'count']=contact_summary['count'][(contact_summary['cell']==classified_contacts['cell'][i])&(contact_summary['rod']==classified_contacts['rod'][i])].values[0]\n",
    "    except IndexError:\n",
    "        classified_contacts=classified_contacts.drop(classified_contacts.index[i]).reset_index().drop('index',axis=1)\n",
    "        cc_log_norm=cc_log_norm.drop(cc_log_norm.index[i]).reset_index().drop('index',axis=1)\n",
    "for i in range(cc_log_norm.shape[0]):\n",
    "    try:\n",
    "        cc_log_norm.loc[i,'group']=contact_summary_log_norm['group'][(contact_summary_log_norm['cell']==cc_log_norm['cell'][i])&(contact_summary_log_norm['rod']==cc_log_norm['rod'][i])].values[0]\n",
    "        cc_log_norm.loc[i,'area']=contact_summary_log_norm['area'][(contact_summary_log_norm['cell']==cc_log_norm['cell'][i])&(contact_summary_log_norm['rod']==cc_log_norm['rod'][i])].values[0]\n",
    "        cc_log_norm.loc[i,'excentricity']=contact_summary_log_norm['excentricity'][(contact_summary_log_norm['cell']==cc_log_norm['cell'][i])&(contact_summary_log_norm['rod']==cc_log_norm['rod'][i])].values[0]\n",
    "        cc_log_norm.loc[i,'angle']=contact_summary_log_norm['angle'][(contact_summary_log_norm['cell']==cc_log_norm['cell'][i])&(contact_summary_log_norm['rod']==cc_log_norm['rod'][i])].values[0]\n",
    "        cc_log_norm.loc[i,'branch_dist']=contact_summary_log_norm['branch_dist'][(contact_summary_log_norm['cell']==cc_log_norm['cell'][i])&(contact_summary_log_norm['rod']==cc_log_norm['rod'][i])].values[0]\n",
    "        cc_log_norm.loc[i,'end_dist']=contact_summary_log_norm['end_dist'][(contact_summary_log_norm['cell']==cc_log_norm['cell'][i])&(contact_summary_log_norm['rod']==cc_log_norm['rod'][i])].values[0]\n",
    "        cc_log_norm.loc[i,'height']=contact_summary_log_norm['height'][(contact_summary_log_norm['cell']==cc_log_norm['cell'][i])&(contact_summary_log_norm['rod']==cc_log_norm['rod'][i])].values[0]\n",
    "        cc_log_norm.loc[i,'count']=contact_summary_log_norm['count'][(contact_summary_log_norm['cell']==cc_log_norm['cell'][i])&(contact_summary_log_norm['rod']==cc_log_norm['rod'][i])].values[0]\n",
    "    except IndexError:\n",
    "        cc_log_norm=cc_log_norm.drop(cc_log_norm.index[i]).reset_index().drop('index',axis=1)"
   ]
  },
  {
   "cell_type": "markdown",
   "metadata": {},
   "source": [
    "### Classification of RBC to rod contacts\n",
    "\n",
    "Results needed to get the distance between OFF-CBC to rod contact points and true RBC to rod contacts"
   ]
  },
  {
   "cell_type": "code",
   "execution_count": 23,
   "metadata": {
    "collapsed": true
   },
   "outputs": [],
   "source": [
    "clf_svm_rbc=svm.SVC(gamma=1e-1,C=10)\n",
    "clf_svm_rbc.fit(cc_log_norm.ix[cc_log_norm['group']=='rbc',5:].as_matrix(),cc_log_norm.ix[cc_log_norm['group']=='rbc']['class'].as_matrix())\n",
    "\n",
    "contact_summary.loc[:,'prediction']=0\n",
    "contact_summary.ix[contact_summary['group']=='rbc','prediction']=clf_svm_rbc.predict(contact_summary_log_norm.ix[contact_summary_log_norm['group']=='rbc',4:11])"
   ]
  },
  {
   "cell_type": "code",
   "execution_count": 24,
   "metadata": {
    "collapsed": false
   },
   "outputs": [],
   "source": [
    "contact_summary_off=contact_summary[contact_summary['group']=='off'].copy().reset_index().drop('index',axis=1)\n",
    "contact_summary_off.loc[:,'rbc_contact_dist']=10000"
   ]
  },
  {
   "cell_type": "code",
   "execution_count": 25,
   "metadata": {
    "collapsed": false
   },
   "outputs": [],
   "source": [
    "for i in range(contact_summary_off.shape[0]):\n",
    "    rod=contact_summary_off.ix[i,'rod']\n",
    "    rod_rbc_contacts=contact_summary[(contact_summary['rod']==rod)&(contact_summary['type']==71)&(contact_summary['prediction']==1)][['cell','excentricity']].as_matrix()\n",
    "    if rod_rbc_contacts.shape[0]>0:\n",
    "        rod_rbc_contacts=np.hstack((rod_rbc_contacts,np.zeros((rod_rbc_contacts.shape[0],3))))\n",
    "        for j in range(rod_rbc_contacts.shape[0]):\n",
    "            rod_rbc_contacts[j,2:]=all_contacts[(all_contacts['rod']==rod)&(all_contacts['cell']==rod_rbc_contacts[j,0])&np.isclose(all_contacts['excentricity'],rod_rbc_contacts[j,1]*1e3)][['x_pos','y_pos','z_pos']]\n",
    "        rod_cbc_contacts=all_contacts[(all_contacts['rod']==rod)&(all_contacts['cell']==contact_summary_off.ix[i,'cell'])][['x_pos','y_pos','z_pos']].as_matrix()\n",
    "        min_dist=[]\n",
    "        for j in range(rod_rbc_contacts.shape[0]):\n",
    "            for k in range(rod_cbc_contacts.shape[0]):\n",
    "                min_dist.append(np.linalg.norm(rod_rbc_contacts[j,2:]-rod_cbc_contacts[k,:]))\n",
    "        contact_summary_off.ix[i,'rbc_contact_dist']=np.min(np.array(min_dist))\n",
    "contact_summary_off['rbc_contact_dist']/=1e3"
   ]
  },
  {
   "cell_type": "code",
   "execution_count": 26,
   "metadata": {
    "collapsed": false
   },
   "outputs": [],
   "source": [
    "contact_summary_log_norm_off=contact_summary_log_norm[contact_summary_log_norm['group']=='off'].copy().reset_index().drop('index',axis=1)\n",
    "contact_summary_log_norm_off.loc[:,'rbc_contact_dist']=np.log(contact_summary_off['rbc_contact_dist'])\n",
    "contact_summary_log_norm_off['rbc_contact_dist']-=np.mean(contact_summary_log_norm_off['rbc_contact_dist'])\n",
    "contact_summary_log_norm_off['rbc_contact_dist']/=np.std(contact_summary_log_norm_off['rbc_contact_dist'])"
   ]
  },
  {
   "cell_type": "code",
   "execution_count": 27,
   "metadata": {
    "collapsed": false
   },
   "outputs": [],
   "source": [
    "classified_contacts_off=classified_contacts[classified_contacts['group']=='off'].copy().reset_index().drop('index',axis=1)\n",
    "classified_contacts_off.loc[:,'rbc_contact_dist']=0\n",
    "for i in range(classified_contacts_off.shape[0]):\n",
    "    classified_contacts_off.loc[i,'rbc_contact_dist']=contact_summary_off['rbc_contact_dist']\\\n",
    "    [(contact_summary_off['cell']==classified_contacts_off['cell'][i])&(contact_summary_off['rod']==classified_contacts_off['rod'][i])].values[0]\n",
    "cc_log_norm_off=cc_log_norm[cc_log_norm['group']=='off'].copy().reset_index().drop('index',axis=1)\n",
    "cc_log_norm_off.loc[:,'rbc_contact_dist']=0\n",
    "for i in range(cc_log_norm_off.shape[0]):\n",
    "    cc_log_norm_off.loc[i,'rbc_contact_dist']=contact_summary_log_norm_off['rbc_contact_dist']\\\n",
    "    [(contact_summary_log_norm_off['cell']==cc_log_norm_off['cell'][i])&(contact_summary_log_norm_off['rod']==cc_log_norm_off['rod'][i])].values[0]"
   ]
  },
  {
   "cell_type": "code",
   "execution_count": 28,
   "metadata": {
    "collapsed": false
   },
   "outputs": [],
   "source": [
    "classified_contacts_off=classified_contacts_off[(classified_contacts_off['rbc_contact_dist']<10)].reset_index().drop('index',axis=1)\n",
    "cc_log_norm_off=cc_log_norm_off[(cc_log_norm_off['rbc_contact_dist']<np.log(10))].reset_index().drop('index',axis=1)\n",
    "contact_summary_off=contact_summary_off[contact_summary_off['rbc_contact_dist']<10].reset_index().drop('index',axis=1)\n",
    "contact_summary_log_norm_off=contact_summary_log_norm_off[contact_summary_log_norm_off['rbc_contact_dist']<np.log(10)].reset_index().drop('index',axis=1)"
   ]
  },
  {
   "cell_type": "code",
   "execution_count": 29,
   "metadata": {
    "collapsed": false
   },
   "outputs": [],
   "source": [
    "rows_to_delete=[]\n",
    "for i in range(contact_summary[contact_summary['group']=='off'].shape[0]):\n",
    "    if contact_summary_off[(contact_summary_off['cell']==contact_summary[contact_summary['group']=='off'].iloc[i]['cell'])&\\\n",
    "                    (contact_summary_off['rod']==contact_summary[contact_summary['group']=='off'].iloc[i]['rod'])].shape[0]<1:\n",
    "        rows_to_delete.append(contact_summary[contact_summary['group']=='off'].index[i])\n",
    "contact_summary=contact_summary.drop(rows_to_delete).reset_index().drop('index',axis=1)"
   ]
  },
  {
   "cell_type": "code",
   "execution_count": 30,
   "metadata": {
    "collapsed": false
   },
   "outputs": [],
   "source": [
    "cc_plots=classified_contacts.copy()\n",
    "for i in range(cc_plots.shape[0]):\n",
    "    cc_plots.loc[i,'min_height']=np.min(all_contacts['height'][(all_contacts['cell']==cc_plots['cell'][i])&(all_contacts['rod']==cc_plots['rod'][i])])\n",
    "for i in range(cc_plots.shape[0]):\n",
    "    cc_plots.loc[i,'mean_height']=np.mean(all_contacts['height'][(all_contacts['cell']==cc_plots['cell'][i])&(all_contacts['rod']==cc_plots['rod'][i])])\n",
    "for i in range(cc_plots.shape[0]):\n",
    "    cc_plots.loc[i,'excent_min_height']=all_contacts['excentricity'][(all_contacts['cell']==cc_plots['cell'][i])&(all_contacts['rod']==cc_plots['rod'][i])\\\n",
    "                                                                   &(all_contacts['height']==cc_plots['min_height'][i])].values[0]\n",
    "for i in range(cc_plots.shape[0]):\n",
    "    cc_plots.loc[i,'area_log']=np.log10(cc_plots.ix[i,'area'])\n",
    "for i in range(cc_plots.shape[0]):\n",
    "    cc_plots.loc[i,'end_dist_log']=np.log10(cc_plots.ix[i,'end_dist'])\n",
    "cc_plots['excent_min_height']/=1e3"
   ]
  },
  {
   "cell_type": "markdown",
   "metadata": {},
   "source": [
    "### Figures for poster/paper"
   ]
  },
  {
   "cell_type": "code",
   "execution_count": 31,
   "metadata": {
    "collapsed": false
   },
   "outputs": [
    {
     "data": {
      "image/png": "[encoded data removed]",
      "text/plain": [
       "<matplotlib.figure.Figure at 0x7fe1acbcd320>"
      ]
     },
     "metadata": {},
     "output_type": "display_data"
    }
   ],
   "source": [
    "plt.figure(figsize=(4/2.54,3/2.54))\n",
    "sns.set(context=\"paper\",style='white',font='Arial',rc={\"xtick.major.size\": 0, \"ytick.major.size\": 4,\"lines.markeredgewidth\": 0.02,\"lines.markersize\":10})\n",
    "ax = sns.violinplot(x=\"group\",y=\"min_height\", data=cc_plots,hue='class',hue_order=[0,1],order=['off','rbc'],orient=\"v\",inner=None,\\\n",
    "                    linewidth=0,palette=sns.light_palette('gray',n_colors=3,reverse=True))\n",
    "ax2=sns.stripplot(x=\"group\", y=\"min_height\", data=cc_plots, hue='class',hue_order=[0,1],order=['off','rbc'],jitter=0.05,split=True, marker='x',size=2,linewidth=0.5,palette=['black','black'])\n",
    "ax.set(xlabel='',xticklabels=['OFF-\\nCBCs','RBCs'],ylim=(-0.7,1.5))\n",
    "plt.legend([])\n",
    "ax.set_ylabel('Contact height')\n",
    "sns.despine(offset=3)\n",
    "# plt.savefig('figures/cc_stats_min_height.svg',bbox_inches='tight',dpi=300)\n",
    "plt.show()"
   ]
  },
  {
   "cell_type": "code",
   "execution_count": 32,
   "metadata": {
    "collapsed": false
   },
   "outputs": [
    {
     "data": {
      "image/png": "[encoded data removed]",
      "text/plain": [
       "<matplotlib.figure.Figure at 0x7fe1aa83da90>"
      ]
     },
     "metadata": {},
     "output_type": "display_data"
    }
   ],
   "source": [
    "plt.figure(figsize=(4/2.54,3/2.54))\n",
    "sns.set(context=\"paper\",style='white',font='Arial',rc={\"xtick.major.size\": 0, \"ytick.major.size\": 4,\"lines.markeredgewidth\": 0.02,\"lines.markersize\":10})\n",
    "ax = sns.violinplot(x=\"group\",y=\"excentricity\", data=cc_plots,hue='class',hue_order=[0,1],order=['off','rbc'],orient=\"v\",inner=None,\\\n",
    "                    linewidth=0,palette=sns.light_palette('gray',n_colors=3,reverse=True))\n",
    "ax = sns.stripplot(x=\"group\", y=\"excentricity\", data=cc_plots, hue='class',hue_order=[0,1],order=['off','rbc'],jitter=0.05,split=True,\\\n",
    "                   size=2,marker='x',linewidth=0.5,palette=['black','black'])\n",
    "ax.set(xlabel='',xticklabels=['OFF-\\nCBCs','RBCs'],ylim=(0,3),yticks=[0,1,2,3])\n",
    "plt.legend([])\n",
    "ax.set_ylabel('Eccentricity [$\\mu m$]')\n",
    "sns.despine(offset=3)\n",
    "# plt.savefig('figures/cc_stats_eccentricity_min.svg',bbox_inches='tight',dpi=300)\n",
    "plt.show()"
   ]
  },
  {
   "cell_type": "code",
   "execution_count": 33,
   "metadata": {
    "collapsed": false
   },
   "outputs": [
    {
     "data": {
      "image/png": "[encoded data removed]",
      "text/plain": [
       "<matplotlib.figure.Figure at 0x7fe1aa83f278>"
      ]
     },
     "metadata": {},
     "output_type": "display_data"
    }
   ],
   "source": [
    "plt.figure(figsize=(4/2.54,3/2.54))\n",
    "sns.set(context=\"paper\",style='white',font='Arial',rc={\"xtick.major.size\": 0, \"ytick.major.size\": 4,\"lines.markeredgewidth\": 0.02,\"lines.markersize\":10})\n",
    "ax = sns.stripplot(x=\"group\", y=\"area\", data=cc_plots, hue='class',hue_order=[0,1],order=['off','rbc'],jitter=0, size=0,marker='x',palette=['black','black'])\n",
    "plt.legend([],loc='upper left')\n",
    "ax2 = ax.twinx()\n",
    "sns.violinplot(x=\"group\",y=\"area_log\", data=cc_plots,hue='class',hue_order=[0,1],order=['off','rbc'],orient=\"v\",inner=None,linewidth=0,palette=sns.light_palette('gray',n_colors=3,reverse=True),ax=ax2)\n",
    "sns.stripplot(x=\"group\", y=\"area_log\", data=cc_plots, hue='class',hue_order=[0,1],order=['off','rbc'],jitter=0.05,split=True,size=2,marker='x',linewidth=0.5,palette=['black','black',],ax=ax2)\n",
    "ax.set(yscale='log',ylim=(1e-4,1e2),xlabel='',xticklabels=['OFF-\\nCBCs','RBCs'],ylabel='Contact area [$\\mu m^2$]')\n",
    "ax.set_yticks([1e-4,1e-2,1,1e2])\n",
    "ax2.set(ylim=(-4,2),ylabel='',yticks=[])\n",
    "sns.despine(offset=3)\n",
    "plt.legend([])\n",
    "# plt.savefig('figures/cc_stats_area.svg',bbox_inches='tight',dpi=300)\n",
    "plt.show()"
   ]
  },
  {
   "cell_type": "markdown",
   "metadata": {},
   "source": [
    "### Testing classification methods"
   ]
  },
  {
   "cell_type": "code",
   "execution_count": 34,
   "metadata": {
    "collapsed": false
   },
   "outputs": [
    {
     "name": "stdout",
     "output_type": "stream",
     "text": [
      "0.0001 1.0 0.6125 0.0 1.0\n",
      "0.0001 10.0 0.6125 0.0 1.0\n",
      "0.0001 100.0 0.6375 0.0 0.935483870968\n",
      "0.0001 1000.0 0.7875 0.183673469388 0.258064516129\n",
      "0.0001 10000.0 0.7125 0.224489795918 0.387096774194\n",
      "0.0001 100000.0 0.6875 0.265306122449 0.387096774194\n",
      "0.0001 1000000.0 0.725 0.224489795918 0.354838709677\n",
      "0.001 1.0 0.6125 0.0 1.0\n",
      "0.001 10.0 0.6375 0.0 0.935483870968\n",
      "0.001 100.0 0.8 0.183673469388 0.225806451613\n",
      "0.001 1000.0 0.7 0.224489795918 0.41935483871\n",
      "0.001 10000.0 0.7375 0.204081632653 0.354838709677\n",
      "0.001 100000.0 0.725 0.244897959184 0.322580645161\n",
      "0.001 1000000.0 0.675 0.30612244898 0.354838709677\n",
      "0.01 1.0 0.6375 0.0 0.935483870968\n",
      "0.01 10.0 0.7375 0.244897959184 0.290322580645\n",
      "0.01 100.0 0.725 0.224489795918 0.354838709677\n",
      "0.01 1000.0 0.7375 0.224489795918 0.322580645161\n",
      "0.01 10000.0 0.6875 0.30612244898 0.322580645161\n",
      "0.01 100000.0 0.6625 0.30612244898 0.387096774194\n",
      "0.01 1000000.0 0.6625 0.30612244898 0.387096774194\n",
      "0.1 1.0 0.7625 0.204081632653 0.290322580645\n",
      "0.1 10.0 0.725 0.265306122449 0.290322580645\n",
      "0.1 100.0 0.7125 0.265306122449 0.322580645161\n",
      "0.1 1000.0 0.7125 0.244897959184 0.354838709677\n",
      "0.1 10000.0 0.7125 0.244897959184 0.354838709677\n",
      "0.1 100000.0 0.7125 0.244897959184 0.354838709677\n",
      "0.1 1000000.0 0.7125 0.244897959184 0.354838709677\n"
     ]
    }
   ],
   "source": [
    "for gamma in np.logspace(-4,-1,4):\n",
    "    for C in np.logspace(0,6,7):\n",
    "        loo=cross_validation.LeaveOneOut(cc_log_norm_off.shape[0])\n",
    "        clf_svm=svm.SVC(gamma=gamma,C=C)\n",
    "        scores_svm_loo = cross_validation.cross_val_score(clf_svm,cc_log_norm_off.ix[:,5:].as_matrix(),\\\n",
    "                                                          cc_log_norm_off['class'].as_matrix(),cv=loo)\n",
    "        prediction_svm_loo = cross_validation.cross_val_predict(clf_svm,cc_log_norm_off.ix[:,5:].as_matrix(),\\\n",
    "                                                                cc_log_norm_off['class'].as_matrix(),cv=loo)\n",
    "        print(gamma,C,np.mean(scores_svm_loo),\\\n",
    "              np.sum(prediction_svm_loo>cc_log_norm_off['class'].as_matrix())/np.sum(cc_log_norm_off['class'].as_matrix()==0)\\\n",
    "              ,np.sum(prediction_svm_loo<cc_log_norm_off['class'].as_matrix())/np.sum(cc_log_norm_off['class'].as_matrix()==1))"
   ]
  },
  {
   "cell_type": "code",
   "execution_count": 35,
   "metadata": {
    "collapsed": false
   },
   "outputs": [
    {
     "name": "stdout",
     "output_type": "stream",
     "text": [
      "0.0001 1.0 0.787878787879 1.0 0.0\n",
      "0.0001 10.0 0.787878787879 1.0 0.0\n",
      "0.0001 100.0 0.878787878788 0.571428571429 0.0\n",
      "0.0001 1000.0 0.939393939394 0.238095238095 0.0128205128205\n",
      "0.0001 10000.0 0.949494949495 0.142857142857 0.025641025641\n",
      "0.0001 100000.0 0.949494949495 0.190476190476 0.0128205128205\n",
      "0.001 1.0 0.787878787879 1.0 0.0\n",
      "0.001 10.0 0.878787878788 0.571428571429 0.0\n",
      "0.001 100.0 0.939393939394 0.238095238095 0.0128205128205\n",
      "0.001 1000.0 0.949494949495 0.142857142857 0.025641025641\n",
      "0.001 10000.0 0.949494949495 0.190476190476 0.0128205128205\n",
      "0.001 100000.0 0.939393939394 0.142857142857 0.0384615384615\n",
      "0.01 1.0 0.878787878788 0.571428571429 0.0\n",
      "0.01 10.0 0.949494949495 0.190476190476 0.0128205128205\n",
      "0.01 100.0 0.939393939394 0.190476190476 0.025641025641\n",
      "0.01 1000.0 0.919191919192 0.190476190476 0.0512820512821\n",
      "0.01 10000.0 0.949494949495 0.142857142857 0.025641025641\n",
      "0.01 100000.0 0.949494949495 0.142857142857 0.025641025641\n",
      "0.1 1.0 0.929292929293 0.238095238095 0.025641025641\n",
      "0.1 10.0 0.949494949495 0.142857142857 0.025641025641\n",
      "0.1 100.0 0.939393939394 0.190476190476 0.025641025641\n",
      "0.1 1000.0 0.939393939394 0.190476190476 0.025641025641\n",
      "0.1 10000.0 0.939393939394 0.190476190476 0.025641025641\n",
      "0.1 100000.0 0.939393939394 0.190476190476 0.025641025641\n",
      "1.0 1.0 0.828282828283 0.809523809524 0.0\n",
      "1.0 10.0 0.848484848485 0.714285714286 0.0\n",
      "1.0 100.0 0.848484848485 0.714285714286 0.0\n",
      "1.0 1000.0 0.848484848485 0.714285714286 0.0\n",
      "1.0 10000.0 0.848484848485 0.714285714286 0.0\n",
      "1.0 100000.0 0.848484848485 0.714285714286 0.0\n"
     ]
    }
   ],
   "source": [
    "for gamma in np.logspace(-4,0,5):\n",
    "    for C in np.logspace(0,5,6):\n",
    "        loo=cross_validation.LeaveOneOut(cc_log_norm.ix[cc_log_norm['group']=='rbc',:].shape[0])\n",
    "        clf_svm=svm.SVC(gamma=gamma,C=C)\n",
    "        scores_svm_loo = cross_validation.cross_val_score(clf_svm,cc_log_norm.ix[cc_log_norm['group']=='rbc',5:].as_matrix(),\\\n",
    "                                                          cc_log_norm.ix[cc_log_norm['group']=='rbc']['class'].as_matrix(),cv=loo)\n",
    "        prediction_svm_loo = cross_validation.cross_val_predict(clf_svm,cc_log_norm.ix[cc_log_norm['group']=='rbc',5:].as_matrix(),\\\n",
    "                                                                cc_log_norm.ix[cc_log_norm['group']=='rbc']['class'].as_matrix(),cv=loo)\n",
    "        print(gamma,C,np.mean(scores_svm_loo),\\\n",
    "              np.sum(prediction_svm_loo>cc_log_norm.ix[cc_log_norm['group']=='rbc']['class'].as_matrix())/np.sum(cc_log_norm.ix[cc_log_norm['group']=='rbc']['class'].as_matrix()==0),\\\n",
    "              np.sum(prediction_svm_loo<cc_log_norm.ix[cc_log_norm['group']=='rbc']['class'].as_matrix())/np.sum(cc_log_norm.ix[cc_log_norm['group']=='rbc']['class'].as_matrix()==1))"
   ]
  },
  {
   "cell_type": "code",
   "execution_count": 36,
   "metadata": {
    "collapsed": false
   },
   "outputs": [],
   "source": [
    "off_svm_cv=svm.SVC(gamma=1e-3,C=100)\n",
    "rbc_svm_cv=svm.SVC(gamma=1e-1,C=10)\n",
    "loo=cross_validation.LeaveOneOut(cc_log_norm_off.shape[0])\n",
    "off_scores_svm_cv = cross_validation.cross_val_score(off_svm_cv,cc_log_norm_off.ix[:,5:].as_matrix(),\\\n",
    "                                                        cc_log_norm_off['class'].as_matrix(),cv=loo)\n",
    "off_prediction_cv = cross_validation.cross_val_predict(off_svm_cv,cc_log_norm_off.ix[:,5:].as_matrix(),\\\n",
    "                                                        cc_log_norm_off['class'].as_matrix(),cv=loo)\n",
    "loo=cross_validation.LeaveOneOut(cc_log_norm.ix[cc_log_norm['group']=='rbc',:].shape[0])\n",
    "rbc_scores_svm_cv = cross_validation.cross_val_score(rbc_svm_cv,cc_log_norm.ix[cc_log_norm['group']=='rbc',5:].as_matrix(),\\\n",
    "                                                        cc_log_norm.ix[cc_log_norm['group']=='rbc']['class'].as_matrix(),cv=loo)\n",
    "rbc_prediction_cv = cross_validation.cross_val_predict(rbc_svm_cv,cc_log_norm.ix[cc_log_norm['group']=='rbc',5:].as_matrix(),\\\n",
    "                                                        cc_log_norm.ix[cc_log_norm['group']=='rbc']['class'].as_matrix(),cv=loo)"
   ]
  },
  {
   "cell_type": "code",
   "execution_count": 37,
   "metadata": {
    "collapsed": false
   },
   "outputs": [],
   "source": [
    "rbc_cv_plot=classified_contacts[classified_contacts['group']=='rbc'].copy().reset_index().drop('index',axis=1)\n",
    "rbc_cv_plot.loc[:,'prediction']=rbc_prediction_cv\n",
    "off_cv_plot=classified_contacts_off.copy()\n",
    "off_cv_plot.loc[:,'prediction']=off_prediction_cv"
   ]
  },
  {
   "cell_type": "code",
   "execution_count": 38,
   "metadata": {
    "collapsed": false
   },
   "outputs": [],
   "source": [
    "cc_cv_plot=pd.concat((off_cv_plot[['cell','rod','type','class','group','prediction']],rbc_cv_plot[['cell','rod','type','class','group','prediction']]))\n",
    "cc_cv_plot.loc[:,'error']=np.abs(cc_cv_plot['class']-cc_cv_plot['prediction'])"
   ]
  },
  {
   "cell_type": "code",
   "execution_count": 39,
   "metadata": {
    "collapsed": false
   },
   "outputs": [
    {
     "data": {
      "image/png": "[encoded data removed]",
      "text/plain": [
       "<matplotlib.figure.Figure at 0x7fe1aa853f60>"
      ]
     },
     "metadata": {},
     "output_type": "display_data"
    }
   ],
   "source": [
    "plt.figure(figsize=(4/2.54,4/2.54))\n",
    "sns.set(font='Arial',style='white',context='paper',rc={\"xtick.major.size\": 4, \"ytick.major.size\": 4})\n",
    "ax=plt.scatter(off_cv_plot[(off_cv_plot['class']==1)&(off_cv_plot['prediction']==1)]['rbc_contact_dist'],\\\n",
    "               off_cv_plot[(off_cv_plot['class']==1)&(off_cv_plot['prediction']==1)]['area'],marker='o',c='k',s=20,lw=0.3,edgecolor='w').axes\n",
    "plt.scatter(off_cv_plot[(off_cv_plot['class']==0)&(off_cv_plot['prediction']==0)]['rbc_contact_dist'],\\\n",
    "               off_cv_plot[(off_cv_plot['class']==0)&(off_cv_plot['prediction']==0)]['area'],marker='^',c='k',s=20,lw=0.3,edgecolor='w')\n",
    "plt.scatter(off_cv_plot[(off_cv_plot['class']==1)&(off_cv_plot['prediction']==0)]['rbc_contact_dist'],\\\n",
    "               off_cv_plot[(off_cv_plot['class']==1)&(off_cv_plot['prediction']==0)]['area'],marker='o',c='w',s=17,lw=0.3)\n",
    "plt.scatter(off_cv_plot[(off_cv_plot['class']==0)&(off_cv_plot['prediction']==1)]['rbc_contact_dist'],\\\n",
    "               off_cv_plot[(off_cv_plot['class']==0)&(off_cv_plot['prediction']==1)]['area'],marker='^',c='w',s=17,lw=0.3)\n",
    "ax.set(xscale='log',xlim=(3e-1,5e0),yscale='log',ylim=(1e-3,1e1))\n",
    "ax.set(xticks=[5e-1,1e0,2e0,4e0])\n",
    "ax.set_xticklabels([0.5,1,2,4])\n",
    "plt.title('OFF-CBCs')\n",
    "ax.set_xlabel('Distance to RBC contact point [$\\mu m$]')\n",
    "ax.set_ylabel('Contact area [$\\mu m^2$]')\n",
    "sns.despine(offset=3)\n",
    "# plt.savefig('figures/classification_rod_off.svg',bbox_inches='tight',dpi=300,transparent=True)\n",
    "plt.show()"
   ]
  },
  {
   "cell_type": "code",
   "execution_count": 40,
   "metadata": {
    "collapsed": false
   },
   "outputs": [
    {
     "data": {
      "image/png": "[encoded data removed]",
      "text/plain": [
       "<matplotlib.figure.Figure at 0x7fe1aa7f7198>"
      ]
     },
     "metadata": {},
     "output_type": "display_data"
    }
   ],
   "source": [
    "plt.figure(figsize=(4/2.54,4/2.54))\n",
    "sns.set(font='Arial',style='white',context='paper',rc={\"xtick.major.size\": 4, \"ytick.major.size\": 4})\n",
    "ax=plt.scatter(rbc_cv_plot[(rbc_cv_plot['class']==1)&(rbc_cv_plot['prediction']==1)]['excentricity'],\\\n",
    "               rbc_cv_plot[(rbc_cv_plot['class']==1)&(rbc_cv_plot['prediction']==1)]['area'],marker='o',c='k',s=20,lw=0.3,edgecolor='w').axes\n",
    "plt.scatter(rbc_cv_plot[(rbc_cv_plot['class']==0)&(rbc_cv_plot['prediction']==0)]['excentricity'],\\\n",
    "               rbc_cv_plot[(rbc_cv_plot['class']==0)&(rbc_cv_plot['prediction']==0)]['area'],marker='^',c='k',s=20,lw=0.3,edgecolor='w')\n",
    "plt.scatter(rbc_cv_plot[(rbc_cv_plot['class']==1)&(rbc_cv_plot['prediction']==0)]['excentricity'],\\\n",
    "               rbc_cv_plot[(rbc_cv_plot['class']==1)&(rbc_cv_plot['prediction']==0)]['area'],marker='o',c='w',s=17,lw=0.3)\n",
    "plt.scatter(rbc_cv_plot[(rbc_cv_plot['class']==0)&(rbc_cv_plot['prediction']==1)]['excentricity'],\\\n",
    "               rbc_cv_plot[(rbc_cv_plot['class']==0)&(rbc_cv_plot['prediction']==1)]['area'],marker='^',c='w',s=17,lw=0.3)\n",
    "ax.set(xscale='log',xlim=(2e-2,2e0),yscale='log',ylim=(1e-4,5e0))\n",
    "plt.title('RBCs')\n",
    "ax.set_xlabel('Eccentricity [$\\mu m$]')\n",
    "ax.set_ylabel('Contact area [$\\mu m^2$]')\n",
    "sns.despine(offset=3)\n",
    "# plt.savefig('figures/classification_rod_rbc.svg',bbox_inches='tight',dpi=300,transparent=True)\n",
    "plt.show()"
   ]
  },
  {
   "cell_type": "code",
   "execution_count": 41,
   "metadata": {
    "collapsed": false
   },
   "outputs": [
    {
     "data": {
      "image/png": "[encoded data removed]",
      "text/plain": [
       "<matplotlib.figure.Figure at 0x7fe1aa391470>"
      ]
     },
     "metadata": {},
     "output_type": "display_data"
    }
   ],
   "source": [
    "plt.figure(figsize=(4/2.54,4/2.54))\n",
    "sns.set(font='Arial',context='paper',style='white',rc={\"xtick.major.size\": 0, \"ytick.major.size\": 4})\n",
    "ax=sns.barplot(x='group',y='error',hue='class',data=cc_cv_plot,ci=None,palette=[np.array([0.8,0.8,0.8,1.]),np.array([0.4,0.4,0.4,1.])])\n",
    "ax.set(ylabel='error rate',xlabel='',xticklabels=['Off CBC','RBC'],yticks=[0,0.1,0.2,0.3])\n",
    "plt.legend(bbox_to_anchor=(1, 1.08),labels=['false negative','false positive'])\n",
    "sns.despine()\n",
    "# plt.savefig('figures/classication_performance_rods.svg',bbox_inches='tight',dpi=300,transparent=True)\n",
    "plt.show()"
   ]
  },
  {
   "cell_type": "code",
   "execution_count": 42,
   "metadata": {
    "collapsed": false
   },
   "outputs": [
    {
     "data": {
      "text/plain": [
       "SVC(C=10, cache_size=200, class_weight=None, coef0=0.0,\n",
       "  decision_function_shape=None, degree=3, gamma=0.1, kernel='rbf',\n",
       "  max_iter=-1, probability=False, random_state=None, shrinking=True,\n",
       "  tol=0.001, verbose=False)"
      ]
     },
     "execution_count": 42,
     "metadata": {},
     "output_type": "execute_result"
    }
   ],
   "source": [
    "clf_svm_rbc=svm.SVC(gamma=1e-1,C=10)\n",
    "clf_svm_rbc.fit(cc_log_norm.ix[cc_log_norm['group']=='rbc',5:].as_matrix(),cc_log_norm.ix[cc_log_norm['group']=='rbc']['class'].as_matrix())"
   ]
  },
  {
   "cell_type": "code",
   "execution_count": 43,
   "metadata": {
    "collapsed": false
   },
   "outputs": [],
   "source": [
    "contact_summary.loc[:,'prediction']=0\n",
    "contact_summary.ix[contact_summary['group']=='rbc','prediction']=clf_svm_rbc.predict(contact_summary_log_norm.ix[contact_summary_log_norm['group']=='rbc',4:11])"
   ]
  },
  {
   "cell_type": "code",
   "execution_count": 44,
   "metadata": {
    "collapsed": false
   },
   "outputs": [],
   "source": [
    "clf_svm_off=svm.SVC(gamma=1e-3,C=100)\n",
    "clf_svm_off.fit(cc_log_norm_off.ix[:,5:].as_matrix(),cc_log_norm_off['class'].as_matrix())\n",
    "contact_summary.ix[contact_summary['group']=='off','prediction']=clf_svm_off.predict(contact_summary_log_norm_off.ix[:,4:].as_matrix())"
   ]
  },
  {
   "cell_type": "code",
   "execution_count": 45,
   "metadata": {
    "collapsed": false
   },
   "outputs": [],
   "source": [
    "# contact_summary.to_pickle('data/rod_contact_predictions')"
   ]
  },
  {
   "cell_type": "code",
   "execution_count": null,
   "metadata": {
    "collapsed": false
   },
   "outputs": [],
   "source": []
  }
 ],
 "metadata": {
  "kernelspec": {
   "display_name": "Python 3",
   "language": "python",
   "name": "python3"
  },
  "language_info": {
   "codemirror_mode": {
    "name": "ipython",
    "version": 3
   },
   "file_extension": ".py",
   "mimetype": "text/x-python",
   "name": "python",
   "nbconvert_exporter": "python",
   "pygments_lexer": "ipython3",
   "version": "3.4.3"
  }
 },
 "nbformat": 4,
 "nbformat_minor": 0
}
