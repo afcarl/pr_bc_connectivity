{
 "cells": [
  {
   "cell_type": "markdown",
   "metadata": {},
   "source": [
    "## Comparison between cones in dendritic field and contacted cones <br/>& coverage factor of BC types"
   ]
  },
  {
   "cell_type": "code",
   "execution_count": 1,
   "metadata": {
    "collapsed": false
   },
   "outputs": [],
   "source": [
    "import numpy as np\n",
    "from scipy.stats import itemfreq\n",
    "import pandas as pd\n",
    "import matplotlib\n",
    "import matplotlib.pyplot as plt\n",
    "import seaborn as sns\n",
    "from scipy.io import loadmat\n",
    "from scipy.ndimage import morphology\n",
    "%matplotlib inline\n",
    "matplotlib.rc('font',**{'family':'sans-serif','sans-serif':['Arial']})\n",
    "matplotlib.rcParams.update({'mathtext.default': 'regular'})\n",
    "matplotlib.rcParams.update({'font.size': 14})\n",
    "sns.set_style(\"whitegrid\")"
   ]
  },
  {
   "cell_type": "code",
   "execution_count": 2,
   "metadata": {
    "collapsed": false
   },
   "outputs": [],
   "source": [
    "skeleton_data=loadmat('data/skeletons_OPL_final.mat')\n",
    "skeleton_ids=skeleton_data['kn_allSkeletons_e2006_IDs'].flatten()\n",
    "skeletons=skeleton_data['kn_allSkeletons_e2006'].flatten()\n",
    "M=np.loadtxt('data/coordinate_rotation')"
   ]
  },
  {
   "cell_type": "code",
   "execution_count": 3,
   "metadata": {
    "collapsed": false
   },
   "outputs": [],
   "source": [
    "BC_ids=np.loadtxt('data/BC_IDs_new')\n",
    "cut_off_cones=np.array([73,72,71,74,201,202,211,203,88,204,142,34,4,30,199])+2000\n",
    "BC_excluded=np.array([691,709,827,836])\n",
    "blue_cones=np.array([2006,2007,2009,2024,2028,2029])\n",
    "cones_outside_cbc9=np.array([193,209,200,198,197,199,73,72,71,74,69,67,66,211,86,88,87,120,85,204,84,207,128,114,126,127,125,142,130,104,106,175,135])+2000\n",
    "\n",
    "cell_ids=[]\n",
    "for i in range(BC_ids.shape[0]):\n",
    "    if BC_ids[i,4] in range(58,72):\n",
    "        cell_ids.append([BC_ids[i,0],BC_ids[i,1],BC_ids[i,4]])\n",
    "for i in skeleton_ids:\n",
    "    if (i >2000)&(i<3000):\n",
    "        if i in blue_cones:\n",
    "            cell_ids.append([i,i,81])\n",
    "        elif i in cones_outside_cbc9:\n",
    "            cell_ids.append([i,i,82])\n",
    "        elif i in cut_off_cones:\n",
    "            cell_ids.append([i,i,83])\n",
    "        else:\n",
    "            cell_ids.append([i,i,80])\n",
    "    elif (i>3000):\n",
    "        cell_ids.append([i,i,84])\n",
    "cell_ids=np.array(cell_ids).astype(int)\n",
    "cone_ids=cell_ids[(cell_ids[:,2]>=80)&(cell_ids[:,2]<84)]\n",
    "green_cones=cone_ids[(np.in1d(cone_ids[:,0],blue_cones,invert=True))&(np.in1d(cone_ids[:,0],cones_outside_cbc9,invert=True)),0]"
   ]
  },
  {
   "cell_type": "code",
   "execution_count": 4,
   "metadata": {
    "collapsed": false
   },
   "outputs": [],
   "source": [
    "cone_projections=[]\n",
    "for i in range(cell_ids.shape[0]):\n",
    "    if (cell_ids[i,2]>=80)&(cell_ids[i,2]<84):\n",
    "        data=np.loadtxt('data/cone_projections/cell'+str(cell_ids[i,0]).zfill(4)+'_rot_x_complete.gz')\n",
    "        cone_projections.append(data)"
   ]
  },
  {
   "cell_type": "code",
   "execution_count": 5,
   "metadata": {
    "collapsed": false
   },
   "outputs": [],
   "source": [
    "soma_data=loadmat('data/soma_positions.mat')\n",
    "soma_pos=soma_data['kn_e2006_ALLSKELETONS_FINAL2012_allSomata']\n",
    "soma_internal_ids=soma_data['kn_e2006_ALLSKELETONS_FINAL2012_cellIDs']\n",
    "soma_line_ids=soma_data['kn_e2006_ALLSKELETONS_FINAL2012_cellIDs_pure_forSomata']\n",
    "soma_pos[:,:3]=np.dot(M,soma_pos[:,:3].T).T\n",
    "soma_pos[:,:3]=soma_pos[:,:3]"
   ]
  },
  {
   "cell_type": "markdown",
   "metadata": {},
   "source": [
    "### Coverage factor using cones and morphological closing"
   ]
  },
  {
   "cell_type": "code",
   "execution_count": 6,
   "metadata": {
    "collapsed": false
   },
   "outputs": [],
   "source": [
    "#define structure with diameter 0.75µm (=15px a 50nm)\n",
    "struct=np.zeros((31,31))\n",
    "for i in range(31):\n",
    "    for j in range(31):\n",
    "        if (i-15)**2+(j-15)**2<=225:\n",
    "            struct[i,j]=1"
   ]
  },
  {
   "cell_type": "code",
   "execution_count": 7,
   "metadata": {
    "collapsed": false
   },
   "outputs": [],
   "source": [
    "cone_projections_reduced=[]\n",
    "for i in range(cone_ids.shape[0]):\n",
    "    data=(cone_projections[i]/np.array([3,2])).astype(int)#still have to scale it correctly\n",
    "    data_min=np.min(data,axis=0)\n",
    "    data=data-data_min\n",
    "    data_max=np.max(data,axis=0)\n",
    "    data_im=np.zeros(data_max+1)\n",
    "    data_im[tuple(data.astype(int).T)]=1\n",
    "    data_im=morphology.grey_opening(data_im,footprint=struct)\n",
    "    data2=np.array(np.where(data_im==1)).T+data_min\n",
    "    cone_projections_reduced.append(data2)#*np.array([3,2]))"
   ]
  },
  {
   "cell_type": "code",
   "execution_count": 8,
   "metadata": {
    "collapsed": false
   },
   "outputs": [],
   "source": [
    "BC_data=cell_ids[cell_ids[:,2]<80]\n",
    "BC_data[:,1]=BC_data[:,2]\n",
    "BC_data[:,2]=0\n",
    "BC_data_green=np.copy(BC_data)\n",
    "BC_data_blue=np.copy(BC_data)\n",
    "BC_type_contacts=[[],[],[],[],[],[],[],[],[],[],[],[],[],[]]\n",
    "BC_type_contacts_green=[[],[],[],[],[],[],[],[],[],[],[],[],[],[]]\n",
    "BC_type_contacts_blue=[[],[],[],[],[],[],[],[],[],[],[],[],[],[]]\n",
    "for i in range(BC_data.shape[0]):\n",
    "    cell=BC_data[i,0]\n",
    "    type_ind=BC_data[i,1]-58\n",
    "    nodes_complete=np.empty((0,3))\n",
    "    for skel in np.where(skeleton_ids==cell)[0]:\n",
    "        nodes=skeletons[skel].item()[list(skeletons[skel].dtype.names).index('nodes')][:,:3]\n",
    "        edges=skeletons[skel].item()[list(skeletons[skel].dtype.names).index('edges')]\n",
    "        nodes=nodes[np.unique(edges)-1,:]\n",
    "        nodes=nodes[:,:3]/[16.5,16.5,25]\n",
    "        nodes=np.dot(M,nodes.T).T\n",
    "        nodes_complete=np.concatenate((nodes_complete,nodes[nodes[:,0]<soma_pos[soma_line_ids[0,np.where(soma_internal_ids==cell_ids[i,1])[1][0]]-1,0],0:3]),axis=0)\n",
    "    nodes_proj=np.ascontiguousarray((nodes_complete[:,1:]/np.array([3,2])).astype(int))\n",
    "    for cone in range(len(cone_projections_reduced)):\n",
    "        if np.sum(np.in1d(nodes_proj.view(dtype='int64,int64').reshape(nodes_proj.shape[0]),\\\n",
    "                      np.ascontiguousarray(cone_projections_reduced[cone]).view(dtype='int64,int64').reshape(cone_projections_reduced[cone].shape[0])))>0:\n",
    "            if not cone_ids[cone,0] in cut_off_cones:\n",
    "                BC_data[i,2]+=1\n",
    "                BC_type_contacts[type_ind]+=[cone_ids[cone,0].astype(int)]\n",
    "            if cone_ids[cone,0] in green_cones:\n",
    "                BC_data_green[i,2]+=1\n",
    "                BC_type_contacts_green[type_ind]+=[cone_ids[cone,0].astype(int)]\n",
    "            elif cone_ids[cone,0] in blue_cones:\n",
    "                BC_data_blue[i,2]+=1\n",
    "                BC_type_contacts_blue[type_ind]+=[cone_ids[cone,0].astype(int)]"
   ]
  },
  {
   "cell_type": "code",
   "execution_count": 9,
   "metadata": {
    "collapsed": false
   },
   "outputs": [],
   "source": [
    "cones_in_reach3=pd.DataFrame(BC_data,columns=['cell','type','count'])\n",
    "cones_in_reach3=cones_in_reach3[np.in1d(cones_in_reach3['cell'],BC_excluded,invert=True)].reset_index().drop('index',axis=1)\n",
    "cones_in_reach_green3=pd.DataFrame(BC_data_green,columns=['cell','type','count'])\n",
    "cones_in_reach_green3=cones_in_reach_green3[np.in1d(cones_in_reach_green3['cell'],BC_excluded,invert=True)].reset_index().drop('index',axis=1)\n",
    "cones_in_reach_blue3=pd.DataFrame(BC_data_blue,columns=['cell','type','count'])\n",
    "cones_in_reach_blue3=cones_in_reach_blue3[np.in1d(cones_in_reach_blue3['cell'],BC_excluded,invert=True)].reset_index().drop('index',axis=1)\n",
    "cones_in_type_reach3=np.zeros((14,2))\n",
    "cones_in_type_reach3[:,0]=np.arange(58,72)\n",
    "for i in range(len(BC_type_contacts)):\n",
    "    cones_in_type_reach3[i,1]=len(np.unique(BC_type_contacts[i]))\n",
    "cones_in_type_reach_green3=np.zeros((14,2))\n",
    "cones_in_type_reach_green3[:,0]=np.arange(58,72)\n",
    "for i in range(len(BC_type_contacts_green)):\n",
    "    cones_in_type_reach_green3[i,1]=len(np.unique(BC_type_contacts_green[i]))\n",
    "cones_in_type_reach_blue3=np.zeros((14,2))\n",
    "cones_in_type_reach_blue3[:,0]=np.arange(58,72)\n",
    "for i in range(len(BC_type_contacts_blue)):\n",
    "    cones_in_type_reach_blue3[i,1]=len(np.unique(BC_type_contacts_blue[i]))"
   ]
  },
  {
   "cell_type": "code",
   "execution_count": 10,
   "metadata": {
    "collapsed": false
   },
   "outputs": [
    {
     "name": "stdout",
     "output_type": "stream",
     "text": [
      "1.47524752475\n",
      "1.546875\n",
      "1.36752136752\n",
      "1.90163934426\n",
      "1.85606060606\n",
      "1.30630630631\n",
      "1.60317460317\n",
      "1.95035460993\n",
      "1.11764705882\n",
      "1.58064516129\n",
      "1.65079365079\n",
      "1.21153846154\n",
      "1.45192307692\n",
      "4.37414965986\n"
     ]
    }
   ],
   "source": [
    "#OPL coverage from cones\n",
    "for i in range(len(cones_in_type_reach3)):\n",
    "    print(np.sum(cones_in_reach3[cones_in_reach3['type']==i+58]['count'])/cones_in_type_reach3[i,1])"
   ]
  },
  {
   "cell_type": "code",
   "execution_count": 11,
   "metadata": {
    "collapsed": false
   },
   "outputs": [],
   "source": [
    "contact_summary=pd.read_pickle('data/cone_contact_predictions')\n",
    "true_contacts=contact_summary[(contact_summary['prediction']==1)].reset_index().drop('index',axis=1)\n",
    "true_contacts_green=contact_summary.ix[(contact_summary['prediction']==1)&(contact_summary['cone_type']=='green'),:4]\n",
    "true_contacts_blue=contact_summary.ix[(contact_summary['prediction']==1)&(contact_summary['cone_type']=='blue'),:4]"
   ]
  },
  {
   "cell_type": "code",
   "execution_count": 12,
   "metadata": {
    "collapsed": false
   },
   "outputs": [],
   "source": [
    "stat_bc_contacts_all=pd.DataFrame(BC_ids[(BC_ids[:,4]>=58)&(BC_ids[:,4]<=71)&np.in1d(BC_ids[:,0],BC_excluded,invert=True)][:,[0,4]],columns=['cell','type'])\n",
    "all_contact_freq_type=itemfreq(true_contacts['cell'].as_matrix())\n",
    "for i in range(stat_bc_contacts_all.shape[0]):\n",
    "    stat_bc_contacts_all.loc[i,'count']=0\n",
    "    try:\n",
    "        stat_bc_contacts_all.ix[i,'count']=all_contact_freq_type[all_contact_freq_type[:,0]==stat_bc_contacts_all.ix[i,'cell'],1]\n",
    "    except ValueError:\n",
    "        continue"
   ]
  },
  {
   "cell_type": "code",
   "execution_count": 13,
   "metadata": {
    "collapsed": false
   },
   "outputs": [],
   "source": [
    "stat_bc_contacts_green=pd.DataFrame(BC_ids[(BC_ids[:,4]>=58)&(BC_ids[:,4]<=71)&np.in1d(BC_ids[:,0],BC_excluded,invert=True)][:,[0,4]],columns=['cell','type'])\n",
    "stat_bc_contacts_blue=stat_bc_contacts_green.copy()\n",
    "green_contact_freq_type=itemfreq(true_contacts_green['cell'].as_matrix())\n",
    "for i in range(stat_bc_contacts_green.shape[0]):\n",
    "    stat_bc_contacts_green.loc[i,'count']=0\n",
    "    try:\n",
    "        stat_bc_contacts_green.ix[i,'count']=green_contact_freq_type[green_contact_freq_type[:,0]==stat_bc_contacts_green.ix[i,'cell'],1]\n",
    "    except ValueError:\n",
    "        continue\n",
    "blue_contact_freq_type=itemfreq(true_contacts_blue['cell'].as_matrix())\n",
    "for i in range(stat_bc_contacts_blue.shape[0]):\n",
    "    stat_bc_contacts_blue.loc[i,'count']=0\n",
    "    try:\n",
    "        stat_bc_contacts_blue.ix[i,'count']=blue_contact_freq_type[blue_contact_freq_type[:,0]==stat_bc_contacts_blue.ix[i,'cell'],1]\n",
    "    except ValueError:\n",
    "        continue"
   ]
  },
  {
   "cell_type": "code",
   "execution_count": 14,
   "metadata": {
    "collapsed": false
   },
   "outputs": [],
   "source": [
    "stat_bc_contacts_joined=pd.concat({'contacted': stat_bc_contacts_all, 'in dendritic field': cones_in_reach3})\n",
    "stat_bc_contacts_joined=stat_bc_contacts_joined.reset_index().drop('level_1',axis=1).rename(columns={'level_0':'count_type'})\n",
    "stat_bc_contacts_joined_green=pd.concat({'contacted': stat_bc_contacts_green, 'in dendritic field': cones_in_reach_green3})\n",
    "stat_bc_contacts_joined_green=stat_bc_contacts_joined_green.reset_index().drop('level_1',axis=1).rename(columns={'level_0':'count_type'})\n",
    "stat_bc_contacts_joined_blue=pd.concat({'contacted': stat_bc_contacts_blue, 'in dendritic field': cones_in_reach_blue3})\n",
    "stat_bc_contacts_joined_blue=stat_bc_contacts_joined_blue.reset_index().drop('level_1',axis=1).rename(columns={'level_0':'count_type'})"
   ]
  },
  {
   "cell_type": "markdown",
   "metadata": {},
   "source": [
    "#### Figure 3F"
   ]
  },
  {
   "cell_type": "code",
   "execution_count": 15,
   "metadata": {
    "collapsed": false
   },
   "outputs": [
    {
     "data": {
      "image/png": "[encoded data removed]",
      "text/plain": [
       "<matplotlib.figure.Figure at 0x7f2691f4b240>"
      ]
     },
     "metadata": {},
     "output_type": "display_data"
    }
   ],
   "source": [
    "labels = ['1','2','3A','3B','4','5T','5O','5I','X','6','7','8','9']\n",
    "sns.set(font='Arial',style='white',context='paper',rc={\"xtick.major.size\": 0, \"ytick.major.size\": 4})\n",
    "with matplotlib.rc_context({\"lines.linewidth\": 0.7}):\n",
    "    plt.figure(figsize=(8/2.54,4/2.54))\n",
    "    ax=sns.barplot(x='type',y='count',data=stat_bc_contacts_joined,hue='count_type',order=np.arange(58,71),ci=95,palette=[np.array([0.8,0.8,0.8,1.]),np.array([0.4,0.4,0.4,1.])])\n",
    "    ax.set_xticklabels(labels)\n",
    "    ax.set(ylabel='# cones',xlabel='',ylim=(0,30))\n",
    "    ax.spines['left'].set_position(('outward',3))\n",
    "    legend=plt.legend(loc='upper left')\n",
    "    sns.despine()\n",
    "#     plt.savefig('figures/dendritic_field_vs_contacted_cones.svg',bbox_inches='tight',dpi=300)\n",
    "    plt.show()"
   ]
  },
  {
   "cell_type": "code",
   "execution_count": 16,
   "metadata": {
    "collapsed": false
   },
   "outputs": [],
   "source": [
    "contacted_cones_ratio=stat_bc_contacts_all.copy()\n",
    "for i in range(contacted_cones_ratio.shape[0]):\n",
    "    contacted_cones_ratio.loc[i,'cones']=cones_in_reach3[cones_in_reach3['cell']==contacted_cones_ratio.ix[i,'cell']]['count'].as_matrix()\n",
    "for i in range(contacted_cones_ratio.shape[0]):\n",
    "    contacted_cones_ratio.loc[i,'ratio']=contacted_cones_ratio.ix[i,'count']/contacted_cones_ratio.ix[i,'cones']\n",
    "    \n",
    "contacted_cones_ratio_green=stat_bc_contacts_green.copy()\n",
    "for i in range(contacted_cones_ratio_green.shape[0]):\n",
    "    contacted_cones_ratio_green.loc[i,'cones']=cones_in_reach_green3[cones_in_reach_green3['cell']==contacted_cones_ratio_green.ix[i,'cell']]['count'].as_matrix()\n",
    "for i in range(contacted_cones_ratio_green.shape[0]):\n",
    "    contacted_cones_ratio_green.loc[i,'ratio']=contacted_cones_ratio_green.ix[i,'count']/contacted_cones_ratio_green.ix[i,'cones']\n",
    "    \n",
    "contacted_cones_ratio_blue=stat_bc_contacts_blue.copy()\n",
    "for i in range(contacted_cones_ratio_blue.shape[0]):\n",
    "    contacted_cones_ratio_blue.loc[i,'cones']=cones_in_reach_blue3[cones_in_reach_blue3['cell']==contacted_cones_ratio_blue.ix[i,'cell']]['count'].as_matrix()\n",
    "for i in range(contacted_cones_ratio_blue.shape[0]):\n",
    "    contacted_cones_ratio_blue.loc[i,'ratio']=contacted_cones_ratio_blue.ix[i,'count']/contacted_cones_ratio_blue.ix[i,'cones']"
   ]
  },
  {
   "cell_type": "code",
   "execution_count": 17,
   "metadata": {
    "collapsed": false
   },
   "outputs": [],
   "source": [
    "contacted_cones_ratio_joined=pd.concat({'blue': contacted_cones_ratio_blue, 'green': contacted_cones_ratio_green})\n",
    "contacted_cones_ratio_joined=contacted_cones_ratio_joined.reset_index().drop('level_1',axis=1).rename(columns={'level_0':'cone_type'})"
   ]
  },
  {
   "cell_type": "markdown",
   "metadata": {},
   "source": [
    "#### Figure 3G"
   ]
  },
  {
   "cell_type": "code",
   "execution_count": 18,
   "metadata": {
    "collapsed": false
   },
   "outputs": [
    {
     "data": {
      "image/png": "[encoded data removed]",
      "text/plain": [
       "<matplotlib.figure.Figure at 0x7f2691a0f278>"
      ]
     },
     "metadata": {},
     "output_type": "display_data"
    }
   ],
   "source": [
    "labels = ['1','2','3A','3B','4','5T','5O','5I','X','6','7','8','9']\n",
    "sns.set(font='Arial',style='white',context='paper',rc={\"xtick.major.size\": 0, \"ytick.major.size\": 4})\n",
    "plt.figure(figsize=(8/2.54,2.5/2.54))\n",
    "ax=sns.boxplot(x='type',y='ratio',data=contacted_cones_ratio,order=np.arange(58,71),color='grey',fliersize=2,linewidth=0.75)\n",
    "ax.set_xticklabels(labels)\n",
    "ax.set_yticks([0,0.5,1.0])\n",
    "ax.set(ylabel='Fraction of cones',ylim=(0,1.01),xlabel='BC types')\n",
    "ax.spines['left'].set_position(('outward',3))\n",
    "sns.despine()\n",
    "# plt.savefig('figures/dendritic_field_vs_contacted_cones_ratio.svg',bbox_inches='tight',dpi=300)\n",
    "plt.show()"
   ]
  },
  {
   "cell_type": "code",
   "execution_count": null,
   "metadata": {
    "collapsed": false
   },
   "outputs": [],
   "source": []
  }
 ],
 "metadata": {
  "kernelspec": {
   "display_name": "Python 3",
   "language": "python",
   "name": "python3"
  },
  "language_info": {
   "codemirror_mode": {
    "name": "ipython",
    "version": 3
   },
   "file_extension": ".py",
   "mimetype": "text/x-python",
   "name": "python",
   "nbconvert_exporter": "python",
   "pygments_lexer": "ipython3",
   "version": "3.4.3"
  }
 },
 "nbformat": 4,
 "nbformat_minor": 0
}
