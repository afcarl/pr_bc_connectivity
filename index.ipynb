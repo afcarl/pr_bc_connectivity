{
 "cells": [
  {
   "cell_type": "markdown",
   "metadata": {},
   "source": [
    "## Repository overview"
   ]
  },
  {
   "cell_type": "markdown",
   "metadata": {},
   "source": [
    "### Figure 1\n",
    "\n",
    "- [Cone overview projections (C&D, also fig. 3E, fig. 3 supp 2A, fig. 4B)](./cone_overview_projection.ipynb)\n",
    "- [S-cone classification (E)](./S_cone_classification.ipynb)\n",
    "- [Classification of CBC5 subtypes](./CBC5_classification.ipynb)"
   ]
  },
  {
   "cell_type": "markdown",
   "metadata": {},
   "source": [
    "### Figure 2\n",
    "\n",
    "- [Analysis of the contact points between cone pedicles and bipolar cell dendrites](./cone_contact_analysis.ipynb)\n",
    "- [Classification of the contacts (D-I, table 1)](./cone_contact_classification.ipynb)"
   ]
  },
  {
   "cell_type": "markdown",
   "metadata": {},
   "source": [
    "### Figure 3\n",
    "\n",
    "- [Evaluation of the contact statistics (B&D, also fig. 3 supp 2B&C)](./cone_contact_evaluation.ipynb)\n",
    "- [Dendritic field size and coverage factors of BC (F&G)](./dendritic_field_and_cone_coverage.ipynb)\n",
    "- [Calculation of contact densities for bipolar cell types (H&I)](./BC_contact_density.ipynb) "
   ]
  },
  {
   "cell_type": "markdown",
   "metadata": {},
   "source": [
    "### Figure 4\n",
    "- [Comparison of contacts between cone contacts of CBCXs and other ON-CBC types (D)](./CBCX_ON_CBC_contact_comparison.ipynb)\n",
    "- [Comparison of the contact area of basal contacts between CBCXs and OFF-CBCs (D)](./CBCX_OFF_CBC_contact_area_comparison.ipynb)"
   ]
  },
  {
   "cell_type": "markdown",
   "metadata": {},
   "source": [
    "### Figure 5\n",
    "- [Statistics of contacts between RBC and cones (C-E)](./cone_contact_evaluation.ipynb)\n",
    "- [Analysis of possible RBC subtypes (supp. 2)](./RBC_subtypes.ipynb)"
   ]
  },
  {
   "cell_type": "markdown",
   "metadata": {},
   "source": [
    "### Figure 6\n",
    "- [Analysis of the contact points between rod spherules and bipolar cell dendrites](./rod_contact_analysis.ipynb)\n",
    "- [Classification of the contacts (supp. 1, table 2)](./rod_contact_classification.ipynb)\n",
    "- [Evaluation of the contact statistics (D-F)](./rod_contact_evaluation.ipynb)"
   ]
  },
  {
   "cell_type": "markdown",
   "metadata": {},
   "source": [
    "### Table 3\n",
    "- [Calculation of coverage factors from convex hulls](./coverage_factors.ipynb)\n",
    "- [Calculation of coverage factors from cones](./dendritic_field_and_cone_coverage.ipynb)"
   ]
  },
  {
   "cell_type": "code",
   "execution_count": null,
   "metadata": {
    "collapsed": true
   },
   "outputs": [],
   "source": []
  }
 ],
 "metadata": {
  "kernelspec": {
   "display_name": "Python 3",
   "language": "python",
   "name": "python3"
  },
  "language_info": {
   "codemirror_mode": {
    "name": "ipython",
    "version": 3
   },
   "file_extension": ".py",
   "mimetype": "text/x-python",
   "name": "python",
   "nbconvert_exporter": "python",
   "pygments_lexer": "ipython3",
   "version": "3.4.3"
  }
 },
 "nbformat": 4,
 "nbformat_minor": 0
}
