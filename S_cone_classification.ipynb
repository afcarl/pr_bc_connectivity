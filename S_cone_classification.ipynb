{
 "cells": [
  {
   "cell_type": "markdown",
   "metadata": {},
   "source": [
    "## Classification of S-cones vs. M-cones"
   ]
  },
  {
   "cell_type": "code",
   "execution_count": 1,
   "metadata": {
    "collapsed": false
   },
   "outputs": [],
   "source": [
    "import numpy as np\n",
    "import matplotlib\n",
    "import matplotlib.pyplot as plt\n",
    "import pandas as pd\n",
    "import seaborn as sns\n",
    "%matplotlib inline\n",
    "matplotlib.rc('font',**{'family':'sans-serif','sans-serif':['Arial']})\n",
    "matplotlib.rcParams.update({'mathtext.default': 'regular'})\n",
    "matplotlib.rcParams.update({'font.size': 14})\n",
    "sns.set_style(\"whitegrid\")"
   ]
  },
  {
   "cell_type": "code",
   "execution_count": 2,
   "metadata": {
    "collapsed": false
   },
   "outputs": [],
   "source": [
    "CBC9_cone_class=np.array([[7,6,10,29,61,9,31,14,24,23,100,28,17,90],[1,1,0,1,0,1,0,0,1,0,0,1,0,0],[6,10,1,2,1,2,1,1,2,1,1,2,1,1],\\\n",
    "          [2,4,1,1,1,1,1,1,1,1,1,2,1,1],[2,4,2,1,2,1,2,1,2,2,2,3,3,1],[0.13,0.14,0.33,0.63,0.77,0.85,1.03,1.15,1.54,1.65,1.83,2.23,2.45,3.25]]).T\n",
    "CBC9_cone_class=pd.DataFrame(CBC9_cone_class,columns=['cone','class','contacts','bc_contacts','bc_near','excentricity'])"
   ]
  },
  {
   "cell_type": "code",
   "execution_count": 3,
   "metadata": {
    "collapsed": false
   },
   "outputs": [],
   "source": [
    "CBC9_cone_class2=np.array([[7,6,10,29,61,9,31,14,23,100,28,17,90],[1,1,0,1,0,1,0,0,0,0,1,0,0],[1,3,1,1,0,0,0,0,0,0,2,1,0],\\\n",
    "          [1,1,0,0,1,1,1,1,1,1,0,1,1]]).T\n",
    "CBC9_cone_class2=pd.DataFrame(CBC9_cone_class2,columns=['cone','class','bc_ending','bc_continuing'])"
   ]
  },
  {
   "cell_type": "code",
   "execution_count": 4,
   "metadata": {
    "collapsed": false
   },
   "outputs": [],
   "source": [
    "CBC9_cone_class.loc[:,'bc_ratio']=CBC9_cone_class['bc_contacts']/CBC9_cone_class['bc_near']"
   ]
  },
  {
   "cell_type": "code",
   "execution_count": 5,
   "metadata": {
    "collapsed": false
   },
   "outputs": [],
   "source": [
    "CBC9_cone_class2.loc[:,'bc_end_fract']=CBC9_cone_class2['bc_ending']/(CBC9_cone_class2['bc_ending']+CBC9_cone_class2['bc_continuing'])"
   ]
  },
  {
   "cell_type": "code",
   "execution_count": 6,
   "metadata": {
    "collapsed": false
   },
   "outputs": [
    {
     "data": {
      "image/png": "[encoded data removed]",
      "text/plain": [
       "<matplotlib.figure.Figure at 0x7f384c6559e8>"
      ]
     },
     "metadata": {},
     "output_type": "display_data"
    }
   ],
   "source": [
    "plt.figure(figsize=(2.5/2.54,2.5/2.54))\n",
    "sns.set(font='Arial',style='white',context='paper',rc={\"xtick.major.size\": 0, \"ytick.major.size\": 4})\n",
    "ax=sns.swarmplot(x='class',y='contacts',order=[1,0],data=CBC9_cone_class,size=4)\n",
    "ax.set(ylim=(0,10.5),xticklabels=['S','M'],xlabel='',ylabel='# contacts')\n",
    "sns.despine(offset=3)\n",
    "# plt.savefig('figures/s_vs_m_contacts.svg',bbox_inches='tight',dpi=300)"
   ]
  },
  {
   "cell_type": "code",
   "execution_count": 7,
   "metadata": {
    "collapsed": false
   },
   "outputs": [
    {
     "data": {
      "image/png": "[encoded data removed]",
      "text/plain": [
       "<matplotlib.figure.Figure at 0x7f37edd3cb00>"
      ]
     },
     "metadata": {},
     "output_type": "display_data"
    }
   ],
   "source": [
    "plt.figure(figsize=(2.5/2.54,2.5/2.54))\n",
    "sns.set(font='Arial',style='white',context='paper',rc={\"xtick.major.size\": 0, \"ytick.major.size\": 4})\n",
    "ax=sns.swarmplot(x='class',y='bc_ratio',order=[1,0],data=CBC9_cone_class,size=4)\n",
    "ax.set(ylim=(0,1.05),xticklabels=['S','M'],xlabel='',ylabel='Fraction of\\ncontacting BCs')\n",
    "sns.despine(offset=3)\n",
    "# plt.savefig('figures/s_vs_m_bc_fraction.svg',bbox_inches='tight',dpi=300)"
   ]
  },
  {
   "cell_type": "code",
   "execution_count": 8,
   "metadata": {
    "collapsed": false
   },
   "outputs": [
    {
     "data": {
      "image/png": "[encoded data removed]",
      "text/plain": [
       "<matplotlib.figure.Figure at 0x7f37e04a8d30>"
      ]
     },
     "metadata": {},
     "output_type": "display_data"
    }
   ],
   "source": [
    "plt.figure(figsize=(2.5/2.54,2.5/2.54))\n",
    "sns.set(font='Arial',style='white',context='paper',rc={\"xtick.major.size\": 0, \"ytick.major.size\": 4})\n",
    "ax=sns.swarmplot(x='class',y='bc_contacts',order=[1,0],data=CBC9_cone_class,size=4)\n",
    "ax.set(ylim=(0,4.2),xticklabels=['S','M'],xlabel='',ylabel='# contacting BCs',yticks=[0,1,2,3,4])\n",
    "sns.despine(offset=3)\n",
    "# plt.savefig('figures/s_vs_m_bc_contacting.svg',bbox_inches='tight',dpi=300)"
   ]
  },
  {
   "cell_type": "code",
   "execution_count": 9,
   "metadata": {
    "collapsed": false
   },
   "outputs": [
    {
     "data": {
      "image/png": "[encoded data removed]",
      "text/plain": [
       "<matplotlib.figure.Figure at 0x7f37e049fc88>"
      ]
     },
     "metadata": {},
     "output_type": "display_data"
    }
   ],
   "source": [
    "plt.figure(figsize=(2.5/2.54,2.5/2.54))\n",
    "sns.set(font='Arial',style='white',context='paper',rc={\"xtick.major.size\": 0, \"ytick.major.size\": 4})\n",
    "ax=sns.swarmplot(x='class',y='bc_end_fract',order=[1,0],data=CBC9_cone_class2,size=4)\n",
    "ax.set(ylim=(0,1.05),xticklabels=['S','M'],xlabel='',ylabel='Fraction of\\nending BCs')\n",
    "sns.despine(offset=3)\n",
    "# plt.savefig('figures/s_vs_m_bc_ending.svg',bbox_inches='tight',dpi=300)"
   ]
  },
  {
   "cell_type": "code",
   "execution_count": null,
   "metadata": {
    "collapsed": false
   },
   "outputs": [],
   "source": []
  }
 ],
 "metadata": {
  "kernelspec": {
   "display_name": "Python 3",
   "language": "python",
   "name": "python3"
  },
  "language_info": {
   "codemirror_mode": {
    "name": "ipython",
    "version": 3
   },
   "file_extension": ".py",
   "mimetype": "text/x-python",
   "name": "python",
   "nbconvert_exporter": "python",
   "pygments_lexer": "ipython3",
   "version": "3.4.3"
  }
 },
 "nbformat": 4,
 "nbformat_minor": 0
}
