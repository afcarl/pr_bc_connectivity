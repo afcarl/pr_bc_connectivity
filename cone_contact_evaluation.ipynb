{
 "cells": [
  {
   "cell_type": "markdown",
   "metadata": {},
   "source": [
    "## Evaluation of classified contacts between cones and bipolar cells\n",
    "This notebook contains the code to reproduce all figures showing statistics about the cone-BC contacts"
   ]
  },
  {
   "cell_type": "code",
   "execution_count": 1,
   "metadata": {
    "collapsed": false
   },
   "outputs": [],
   "source": [
    "import numpy as np\n",
    "from scipy.stats import itemfreq\n",
    "import matplotlib\n",
    "import matplotlib.pyplot as plt\n",
    "from scipy.io import loadmat\n",
    "import pandas as pd\n",
    "import seaborn as sns\n",
    "from sklearn import cross_validation\n",
    "from sklearn import svm\n",
    "from sklearn.decomposition import PCA\n",
    "%matplotlib inline\n",
    "matplotlib.rc('font',**{'family':'sans-serif','sans-serif':['Arial']})\n",
    "matplotlib.rcParams.update({'mathtext.default': 'regular'})\n",
    "matplotlib.rcParams.update({'font.size': 14})"
   ]
  },
  {
   "cell_type": "code",
   "execution_count": 2,
   "metadata": {
    "collapsed": false
   },
   "outputs": [],
   "source": [
    "sns.set_style(\"whitegrid\")"
   ]
  },
  {
   "cell_type": "code",
   "execution_count": 3,
   "metadata": {
    "collapsed": false
   },
   "outputs": [],
   "source": [
    "BC_ids=np.loadtxt('data/BC_IDs_new').astype(int)"
   ]
  },
  {
   "cell_type": "code",
   "execution_count": 4,
   "metadata": {
    "collapsed": true
   },
   "outputs": [],
   "source": [
    "contact_summary=pd.read_pickle('data/cone_contact_predictions')"
   ]
  },
  {
   "cell_type": "code",
   "execution_count": 5,
   "metadata": {
    "collapsed": false
   },
   "outputs": [],
   "source": [
    "cut_off_cones=np.array([73,72,71,74,201,202,211,203,88,204,142,34,4,30,199])+2000\n",
    "cones_outside_cbc9=np.array([193,209,200,198,197,199,73,72,71,74,69,67,66,211,86,88,87,120,85,204,84,207,128,114,126,127,125,142,130,104,106,175,135])+2000\n",
    "BC_excluded=np.array([691,709,827,836])\n",
    "blue_cones=np.array([2006,2007,2009,2024,2028,2029])"
   ]
  },
  {
   "cell_type": "code",
   "execution_count": 6,
   "metadata": {
    "collapsed": false
   },
   "outputs": [],
   "source": [
    "all_cones=np.unique(contact_summary['cone'].as_matrix())\n",
    "green_cones=all_cones[(np.in1d(all_cones,blue_cones,invert=True))&(np.in1d(all_cones,cones_outside_cbc9,invert=True))]"
   ]
  },
  {
   "cell_type": "code",
   "execution_count": 7,
   "metadata": {
    "collapsed": false
   },
   "outputs": [],
   "source": [
    "true_contacts_green=contact_summary.ix[(contact_summary['prediction']==1)&(contact_summary['cone_type']=='green'),:4]\n",
    "true_contacts_blue=contact_summary.ix[(contact_summary['prediction']==1)&(contact_summary['cone_type']=='blue'),:4]\n",
    "true_contacts=contact_summary.ix[(contact_summary['prediction']==1)]"
   ]
  },
  {
   "cell_type": "code",
   "execution_count": 8,
   "metadata": {
    "collapsed": false
   },
   "outputs": [],
   "source": [
    "stat_bc_contacts_green=pd.DataFrame(BC_ids[(BC_ids[:,4]>=58)&(BC_ids[:,4]<=71)&np.in1d(BC_ids[:,0],BC_excluded,invert=True)][:,[0,4]],columns=['cell','type'])\n",
    "stat_bc_contacts_blue=stat_bc_contacts_green.copy()\n",
    "green_contact_freq_type=itemfreq(true_contacts_green['cell'].as_matrix())\n",
    "for i in range(stat_bc_contacts_green.shape[0]):\n",
    "    stat_bc_contacts_green.loc[i,'count']=0\n",
    "    try:\n",
    "        stat_bc_contacts_green.ix[i,'count']=green_contact_freq_type[green_contact_freq_type[:,0]==stat_bc_contacts_green.ix[i,'cell'],1]\n",
    "    except ValueError:\n",
    "        continue\n",
    "\n",
    "blue_contact_freq_type=itemfreq(true_contacts_blue['cell'].as_matrix())\n",
    "\n",
    "for i in range(stat_bc_contacts_blue.shape[0]):\n",
    "    stat_bc_contacts_blue.loc[i,'count']=0\n",
    "    try:\n",
    "        stat_bc_contacts_blue.ix[i,'count']=blue_contact_freq_type[blue_contact_freq_type[:,0]==stat_bc_contacts_blue.ix[i,'cell'],1]\n",
    "    except ValueError:\n",
    "        continue"
   ]
  },
  {
   "cell_type": "code",
   "execution_count": 9,
   "metadata": {
    "collapsed": false
   },
   "outputs": [],
   "source": [
    "stat_bc_contacts_all=pd.DataFrame(BC_ids[(BC_ids[:,4]>=58)&(BC_ids[:,4]<=71)&np.in1d(BC_ids[:,0],BC_excluded,invert=True)][:,[0,4]],columns=['cell','type'])\n",
    "all_contact_freq_type=itemfreq(true_contacts['cell'].as_matrix())\n",
    "for i in range(stat_bc_contacts_all.shape[0]):\n",
    "    stat_bc_contacts_all.loc[i,'count']=0\n",
    "    try:\n",
    "        stat_bc_contacts_all.ix[i,'count']=all_contact_freq_type[all_contact_freq_type[:,0]==stat_bc_contacts_all.ix[i,'cell'],1]\n",
    "    except ValueError:\n",
    "        continue\n",
    "for i in range(stat_bc_contacts_all.shape[0]):\n",
    "    stat_bc_contacts_all.loc[i,'count_rounded']=np.clip((stat_bc_contacts_all.ix[i,'count']+1)//2,0,4)"
   ]
  },
  {
   "cell_type": "code",
   "execution_count": 10,
   "metadata": {
    "collapsed": false
   },
   "outputs": [],
   "source": [
    "stat_cone_contacts_all=pd.DataFrame(np.concatenate((np.tile(all_cones,14).reshape(-1,1),np.repeat(np.arange(58,72),all_cones.shape[0]).reshape(-1,1)),axis=1),columns=['cone','type'])\n",
    "for i in range(stat_cone_contacts_all.shape[0]):\n",
    "    stat_cone_contacts_all.loc[i,'count']=np.sum((true_contacts['cone']==stat_cone_contacts_all.ix[i,'cone'])&\\\n",
    "                                                   (true_contacts['type']==stat_cone_contacts_all.ix[i,'type']))"
   ]
  },
  {
   "cell_type": "code",
   "execution_count": 11,
   "metadata": {
    "collapsed": false
   },
   "outputs": [],
   "source": [
    "stat_cone_contacts_green=pd.DataFrame(np.concatenate((np.tile(green_cones,14).reshape(-1,1),np.repeat(np.arange(58,72),green_cones.shape[0]).reshape(-1,1)),axis=1),columns=['cone','type'])\n",
    "stat_cone_contacts_blue=pd.DataFrame(np.concatenate((np.tile(blue_cones,14).reshape(-1,1),np.repeat(np.arange(58,72),blue_cones.shape[0]).reshape(-1,1)),axis=1),columns=['cone','type'])\n",
    "\n",
    "for i in range(stat_cone_contacts_green.shape[0]):\n",
    "    stat_cone_contacts_green.loc[i,'count']=np.sum((true_contacts_green['cone']==stat_cone_contacts_green.ix[i,'cone'])&\\\n",
    "                                                   (true_contacts_green['type']==stat_cone_contacts_green.ix[i,'type']))\n",
    "for i in range(stat_cone_contacts_blue.shape[0]):\n",
    "    stat_cone_contacts_blue.loc[i,'count']=np.sum((true_contacts_blue['cone']==stat_cone_contacts_blue.ix[i,'cone'])&\\\n",
    "                                                   (true_contacts_blue['type']==stat_cone_contacts_blue.ix[i,'type']))"
   ]
  },
  {
   "cell_type": "code",
   "execution_count": 12,
   "metadata": {
    "collapsed": false
   },
   "outputs": [],
   "source": [
    "stat_cone_contacts_joined=pd.concat({'S-cones': stat_cone_contacts_blue, 'M-cones': stat_cone_contacts_green})\n",
    "stat_cone_contacts_joined=stat_cone_contacts_joined.reset_index().drop('level_1',axis=1).rename(columns={'level_0':'cone_type'})\n",
    "\n",
    "stat_bc_contacts_joined=pd.concat({'S-cones': stat_bc_contacts_blue, 'M-cones': stat_bc_contacts_green})\n",
    "stat_bc_contacts_joined=stat_bc_contacts_joined.reset_index().drop('level_1',axis=1).rename(columns={'level_0':'cone_type'})\n",
    "\n",
    "stat_cone_contacts_joined_no_rbc=stat_cone_contacts_joined[stat_cone_contacts_joined['type']!=71]\n",
    "stat_bc_contacts_joined_no_rbc=stat_bc_contacts_joined[stat_bc_contacts_joined['type']!=71]"
   ]
  },
  {
   "cell_type": "markdown",
   "metadata": {},
   "source": [
    "#### Contacted cones per bipolar cell (Figure3B)"
   ]
  },
  {
   "cell_type": "code",
   "execution_count": 13,
   "metadata": {
    "collapsed": false
   },
   "outputs": [
    {
     "data": {
      "image/png": "[encoded data removed]",
      "text/plain": [
       "<matplotlib.figure.Figure at 0x7f00b229b4a8>"
      ]
     },
     "metadata": {},
     "output_type": "display_data"
    }
   ],
   "source": [
    "labels = ['1','2','3A','3B','4','5T','5O','5I','X','6','7','8','9']\n",
    "sns.set(font='Arial',style='white',context='paper',rc={\"xtick.major.size\": 0, \"ytick.major.size\": 4})\n",
    "with matplotlib.rc_context({\"lines.linewidth\": 0.7}):\n",
    "    plt.figure(figsize=(8/2.54,4/2.54))\n",
    "    ax=sns.barplot(x='type',y='count',data=stat_bc_contacts_joined_no_rbc,hue='cone_type',order=np.arange(58,71),hue_order=['S-cones','M-cones'],ci=95)\n",
    "    ax.set_xticklabels(labels)\n",
    "    ax.set(ylabel='# cones',ylim=(0,10),xlabel='BC types')\n",
    "    ax.spines['left'].set_position(('outward',3))\n",
    "    legend=plt.legend(loc='upper left')\n",
    "    legend.get_title().set_fontsize(8)\n",
    "    sns.despine()\n",
    "#     plt.savefig('figures/joined_contacts_per_bc.svg',bbox_inches='tight',dpi=300)\n",
    "    plt.show()"
   ]
  },
  {
   "cell_type": "markdown",
   "metadata": {},
   "source": [
    "#### Contacted bipolar cells per cone (Figure 3D)"
   ]
  },
  {
   "cell_type": "code",
   "execution_count": 14,
   "metadata": {
    "collapsed": false
   },
   "outputs": [
    {
     "data": {
      "image/png": "[encoded data removed]",
      "text/plain": [
       "<matplotlib.figure.Figure at 0x7f00abec3860>"
      ]
     },
     "metadata": {},
     "output_type": "display_data"
    }
   ],
   "source": [
    "labels = ['1','2','3A','3B','4','5T','5O','5I','X','6','7','8','9']\n",
    "sns.set(font='Arial',context='paper',style='white',rc={\"xtick.major.size\": 0, \"ytick.major.size\": 4})\n",
    "with matplotlib.rc_context({\"lines.linewidth\": 0.7}):\n",
    "    plt.figure(figsize=(8/2.54,4/2.54))\n",
    "    ax=sns.barplot(x='type',y='count',data=stat_cone_contacts_joined_no_rbc,hue='cone_type',order=np.arange(58,71),hue_order=['S-cones','M-cones'],ci=95)\n",
    "    ax.set_xticklabels(labels)\n",
    "    ax.set(ylabel='# BCs',xlabel='BC types',ylim=(0,3.5),yticks=[0,1,2,3])\n",
    "    ax.spines['left'].set_position(('outward',3))\n",
    "    legend=plt.legend(bbox_to_anchor=(0.95, 1))\n",
    "    legend.get_title().set_fontsize(8)\n",
    "    sns.despine()\n",
    "#     plt.savefig('figures/joined_contacts_per_cone.svg',bbox_inches='tight',dpi=300)\n",
    "    plt.show()"
   ]
  },
  {
   "cell_type": "markdown",
   "metadata": {},
   "source": [
    "### Total number of contacted BC per cone"
   ]
  },
  {
   "cell_type": "code",
   "execution_count": 17,
   "metadata": {
    "collapsed": false
   },
   "outputs": [
    {
     "name": "stdout",
     "output_type": "stream",
     "text": [
      "Central S-cones: 5\n",
      "Central M-cones: 71\n"
     ]
    }
   ],
   "source": [
    "cone_means=np.loadtxt('data/cone_means_rot.txt')\n",
    "central_cones=cone_means[(cone_means[:,2]>np.min(cone_means[:,2])+500)&(cone_means[:,2]<np.max(cone_means[:,2])-500)&\\\n",
    "                         (cone_means[:,3]>np.min(cone_means[:,3])+500)&(cone_means[:,3]<np.max(cone_means[:,3])-500),0]\n",
    "print('Central S-cones:',np.sum(np.in1d(central_cones,blue_cones)))\n",
    "print('Central M-cones:',np.sum(np.in1d(central_cones,green_cones)))"
   ]
  },
  {
   "cell_type": "code",
   "execution_count": 18,
   "metadata": {
    "collapsed": false
   },
   "outputs": [],
   "source": [
    "stat_overall_cone_contacts=pd.concat({'S cones':pd.DataFrame(blue_cones,columns=['cone']),'M cones':pd.DataFrame(green_cones,columns=['cone'])})\n",
    "stat_overall_cone_contacts=stat_overall_cone_contacts.reset_index().drop('level_1',axis=1).rename(columns={'level_0':'cone_type'})\n",
    "for i in range(stat_overall_cone_contacts.shape[0]):\n",
    "    stat_overall_cone_contacts.loc[i,'count']=np.sum(true_contacts['cone']==stat_overall_cone_contacts.ix[i,'cone'])\n",
    "for i in range(stat_overall_cone_contacts.shape[0]):\n",
    "    stat_overall_cone_contacts.loc[i,'points']=np.sum(contact_summary[(contact_summary['cone']==stat_overall_cone_contacts.ix[i,'cone'])\\\n",
    "                                                                      &contact_summary['prediction']==1]['count'])\n",
    "stat_overall_cone_contacts_central=stat_overall_cone_contacts[np.in1d(stat_overall_cone_contacts['cone'],central_cones)]"
   ]
  },
  {
   "cell_type": "code",
   "execution_count": 19,
   "metadata": {
    "collapsed": true
   },
   "outputs": [],
   "source": [
    "stat_overall_cone_contacts=pd.concat({'S cones':pd.DataFrame(blue_cones,columns=['cone']),'M cones':pd.DataFrame(green_cones,columns=['cone'])})\n",
    "stat_overall_cone_contacts=stat_overall_cone_contacts.reset_index().drop('level_1',axis=1).rename(columns={'level_0':'cone_type'})\n",
    "for i in range(stat_overall_cone_contacts.shape[0]):\n",
    "    stat_overall_cone_contacts.loc[i,'count']=np.sum(true_contacts['cone']==stat_overall_cone_contacts.ix[i,'cone'])\n",
    "    stat_overall_cone_contacts.loc[i,'count_on']=np.sum(true_contacts[true_contacts['type']>62]['cone']==stat_overall_cone_contacts.ix[i,'cone'])\n",
    "    stat_overall_cone_contacts.loc[i,'count_off']=np.sum(true_contacts[true_contacts['type']<63]['cone']==stat_overall_cone_contacts.ix[i,'cone'])\n",
    "for i in range(stat_overall_cone_contacts.shape[0]):\n",
    "    stat_overall_cone_contacts.loc[i,'points']=np.sum(contact_summary[(contact_summary['cone']==stat_overall_cone_contacts.ix[i,'cone'])\\\n",
    "                                                                      &contact_summary['prediction']==1]['count'])\n",
    "    stat_overall_cone_contacts.loc[i,'points_on']=np.sum(contact_summary[(contact_summary['cone']==stat_overall_cone_contacts.ix[i,'cone'])\\\n",
    "                                                                      &(contact_summary['prediction']==1)&(contact_summary['type']>62)]['count'])\n",
    "    stat_overall_cone_contacts.loc[i,'points_off']=np.sum(contact_summary[(contact_summary['cone']==stat_overall_cone_contacts.ix[i,'cone'])\\\n",
    "                                                                      &(contact_summary['prediction']==1)&(contact_summary['type']<63)]['count'])\n",
    "stat_overall_cone_contacts_central=stat_overall_cone_contacts[np.in1d(stat_overall_cone_contacts['cone'],central_cones)]"
   ]
  },
  {
   "cell_type": "code",
   "execution_count": 20,
   "metadata": {
    "collapsed": false
   },
   "outputs": [
    {
     "name": "stdout",
     "output_type": "stream",
     "text": [
      "Average number of contacted BC per M-cone (center): 12.2112676056 0.394588899464\n",
      "Average number of contacted BC per S-cone (center): 12.2 1.52970585408\n",
      "Average number of contact points per M-cone (center): 105.323943662 4.78893655619\n",
      "Average number of contact points per S-cone (center): 108.8 24.4834638072\n"
     ]
    }
   ],
   "source": [
    "print('Average number of contacted BC per M-cone (center):',\\\n",
    "      np.mean(stat_overall_cone_contacts_central[stat_overall_cone_contacts_central['cone_type']=='M cones']['count']),\\\n",
    "      np.std(stat_overall_cone_contacts_central[stat_overall_cone_contacts_central['cone_type']=='M cones']['count'])\\\n",
    "      /np.sqrt(np.sum(stat_overall_cone_contacts_central['cone_type']=='M cones')-1))\n",
    "print('Average number of contacted BC per S-cone (center):',\\\n",
    "      np.mean(stat_overall_cone_contacts_central[stat_overall_cone_contacts_central['cone_type']=='S cones']['count']),\\\n",
    "      np.std(stat_overall_cone_contacts_central[stat_overall_cone_contacts_central['cone_type']=='S cones']['count'])\\\n",
    "      /np.sqrt(np.sum(stat_overall_cone_contacts_central['cone_type']=='S cones')-1))\n",
    "\n",
    "print('Average number of contact points per M-cone (center):',\\\n",
    "      np.mean(stat_overall_cone_contacts_central[stat_overall_cone_contacts_central['cone_type']=='M cones']['points']),\\\n",
    "      np.std(stat_overall_cone_contacts_central[stat_overall_cone_contacts_central['cone_type']=='M cones']['points'])\\\n",
    "      /np.sqrt(np.sum(stat_overall_cone_contacts_central['cone_type']=='M cones')-1))\n",
    "print('Average number of contact points per S-cone (center):',\\\n",
    "      np.mean(stat_overall_cone_contacts_central[stat_overall_cone_contacts_central['cone_type']=='S cones']['points']),\\\n",
    "      np.std(stat_overall_cone_contacts_central[stat_overall_cone_contacts_central['cone_type']=='S cones']['points'])\\\n",
    "      /np.sqrt(np.sum(stat_overall_cone_contacts_central['cone_type']=='S cones')-1))"
   ]
  },
  {
   "cell_type": "markdown",
   "metadata": {},
   "source": [
    "### Alternative S-cone selection"
   ]
  },
  {
   "cell_type": "code",
   "execution_count": 21,
   "metadata": {
    "collapsed": false
   },
   "outputs": [],
   "source": [
    "blue_cones_alt=np.array([2007,2006,2010,2029,2061,2009,2031,2014,2024,2023,2100,2028,2017,2090])\n",
    "green_cones_alt=all_cones[(np.in1d(all_cones,blue_cones_alt,invert=True))&(np.in1d(all_cones,cones_outside_cbc9,invert=True))]\n",
    "\n",
    "contact_summary_alt=contact_summary.copy()\n",
    "for i in range(contact_summary.shape[0]):\n",
    "    if contact_summary_alt.ix[i,'cone'] in blue_cones_alt:\n",
    "        contact_summary_alt.loc[i,'cone_type']='S-cone'\n",
    "    elif contact_summary_alt.ix[i,'cone'] in green_cones_alt:\n",
    "        contact_summary_alt.loc[i,'cone_type']='M-cone'\n",
    "    else:\n",
    "        contact_summary_alt.loc[i,'cone_type']='outside'\n",
    "        \n",
    "true_contacts_green_alt=contact_summary_alt.ix[(contact_summary_alt['prediction']==1)&(contact_summary_alt['cone_type']=='M-cone'),:4]\n",
    "true_contacts_blue_alt=contact_summary_alt.ix[(contact_summary_alt['prediction']==1)&(contact_summary_alt['cone_type']=='S-cone'),:4]"
   ]
  },
  {
   "cell_type": "code",
   "execution_count": 22,
   "metadata": {
    "collapsed": false
   },
   "outputs": [],
   "source": [
    "stat_bc_contacts_green_alt=pd.DataFrame(BC_ids[(BC_ids[:,4]>=58)&(BC_ids[:,4]<=71)&np.in1d(BC_ids[:,0],BC_excluded,invert=True)][:,[0,4]],columns=['cell','type'])\n",
    "stat_bc_contacts_blue_alt=stat_bc_contacts_green_alt.copy()\n",
    "green_contact_freq_type_alt=itemfreq(true_contacts_green_alt['cell'].as_matrix())\n",
    "for i in range(stat_bc_contacts_green_alt.shape[0]):\n",
    "    stat_bc_contacts_green_alt.loc[i,'count']=0\n",
    "    try:\n",
    "        stat_bc_contacts_green_alt.ix[i,'count']=green_contact_freq_type_alt[green_contact_freq_type_alt[:,0]==stat_bc_contacts_green_alt.ix[i,'cell'],1]\n",
    "    except ValueError:\n",
    "        continue\n",
    "\n",
    "blue_contact_freq_type_alt=itemfreq(true_contacts_blue_alt['cell'].as_matrix())\n",
    "for i in range(stat_bc_contacts_blue_alt.shape[0]):\n",
    "    stat_bc_contacts_blue_alt.loc[i,'count']=0\n",
    "    try:\n",
    "        stat_bc_contacts_blue_alt.ix[i,'count']=blue_contact_freq_type_alt[blue_contact_freq_type_alt[:,0]==stat_bc_contacts_blue_alt.ix[i,'cell'],1]\n",
    "    except ValueError:\n",
    "        continue\n",
    "        \n",
    "stat_cone_contacts_green_alt=pd.DataFrame(np.concatenate((np.tile(green_cones_alt,14).reshape(-1,1),np.repeat(np.arange(58,72),green_cones_alt.shape[0]).reshape(-1,1)),axis=1),columns=['cone','type'])\n",
    "stat_cone_contacts_blue_alt=pd.DataFrame(np.concatenate((np.tile(blue_cones_alt,14).reshape(-1,1),np.repeat(np.arange(58,72),blue_cones_alt.shape[0]).reshape(-1,1)),axis=1),columns=['cone','type'])\n",
    "\n",
    "for i in range(stat_cone_contacts_green_alt.shape[0]):\n",
    "    stat_cone_contacts_green_alt.loc[i,'count']=np.sum((true_contacts_green_alt['cone']==stat_cone_contacts_green_alt.ix[i,'cone'])&\\\n",
    "                                                   (true_contacts_green_alt['type']==stat_cone_contacts_green_alt.ix[i,'type']))\n",
    "for i in range(stat_cone_contacts_blue_alt.shape[0]):\n",
    "    stat_cone_contacts_blue_alt.loc[i,'count']=np.sum((true_contacts_blue_alt['cone']==stat_cone_contacts_blue_alt.ix[i,'cone'])&\\\n",
    "                                                   (true_contacts_blue_alt['type']==stat_cone_contacts_blue_alt.ix[i,'type']))\n",
    "    \n",
    "stat_cone_contacts_joined_alt=pd.concat({'S-cones': stat_cone_contacts_blue_alt, 'M-cones': stat_cone_contacts_green_alt})\n",
    "stat_cone_contacts_joined_alt=stat_cone_contacts_joined_alt.reset_index().drop('level_1',axis=1).rename(columns={'level_0':'cone_type'})\n",
    "\n",
    "stat_bc_contacts_joined_alt=pd.concat({'S-cones': stat_bc_contacts_blue_alt, 'M-cones': stat_bc_contacts_green_alt})\n",
    "stat_bc_contacts_joined_alt=stat_bc_contacts_joined_alt.reset_index().drop('level_1',axis=1).rename(columns={'level_0':'cone_type'})\n",
    "\n",
    "stat_cone_contacts_joined_no_rbc_alt=stat_cone_contacts_joined_alt[stat_cone_contacts_joined_alt['type']!=71]\n",
    "stat_bc_contacts_joined_no_rbc_alt=stat_bc_contacts_joined_alt[stat_bc_contacts_joined_alt['type']!=71]"
   ]
  },
  {
   "cell_type": "markdown",
   "metadata": {},
   "source": [
    "#### Contacted cones per bipolar cell (alternative S-cone selection, supp. figure 5B)"
   ]
  },
  {
   "cell_type": "code",
   "execution_count": 23,
   "metadata": {
    "collapsed": false
   },
   "outputs": [
    {
     "data": {
      "image/png": "[encoded data removed]",
      "text/plain": [
       "<matplotlib.figure.Figure at 0x7f00abcfa2b0>"
      ]
     },
     "metadata": {},
     "output_type": "display_data"
    }
   ],
   "source": [
    "#alternativ blue cone selection\n",
    "labels = ['1','2','3A','3B','4','5T','5O','5I','X','6','7','8','9']\n",
    "sns.set(font='Arial',style='white',context='paper',rc={\"xtick.major.size\": 0, \"ytick.major.size\": 4})\n",
    "with matplotlib.rc_context({\"lines.linewidth\": 0.7}):\n",
    "    plt.figure(figsize=(8/2.54,4/2.54))\n",
    "    ax=sns.barplot(x='type',y='count',data=stat_bc_contacts_joined_no_rbc_alt,hue='cone_type',order=np.arange(58,71),hue_order=['S-cones','M-cones'],ci=95)\n",
    "    ax.set_xticklabels(labels)\n",
    "    ax.set(ylabel='# cones',ylim=(0,10),xlabel='BC types')\n",
    "    ax.spines['left'].set_position(('outward',3))\n",
    "    legend=plt.legend(loc='upper left')\n",
    "    legend.get_title().set_fontsize(8)\n",
    "    sns.despine()\n",
    "#     plt.savefig('figures/joined_contacts_per_bc_alternative.svg',bbox_inches='tight',dpi=300)\n",
    "    plt.show()"
   ]
  },
  {
   "cell_type": "markdown",
   "metadata": {},
   "source": [
    "#### Contacted bipolar cells per cone (alternative S-cone selection, supp. figure 5C)"
   ]
  },
  {
   "cell_type": "code",
   "execution_count": 24,
   "metadata": {
    "collapsed": false
   },
   "outputs": [
    {
     "data": {
      "image/png": "[encoded data removed]",
      "text/plain": [
       "<matplotlib.figure.Figure at 0x7f00abc0fb00>"
      ]
     },
     "metadata": {},
     "output_type": "display_data"
    }
   ],
   "source": [
    "#alternativ blue cone selection\n",
    "labels = ['1','2','3A','3B','4','5T','5O','5I','X','6','7','8','9']\n",
    "sns.set(font='Arial',context='paper',style='white',rc={\"xtick.major.size\": 0, \"ytick.major.size\": 4})\n",
    "with matplotlib.rc_context({\"lines.linewidth\": 0.7}):\n",
    "    plt.figure(figsize=(8/2.54,4/2.54))\n",
    "    ax=sns.barplot(x='type',y='count',data=stat_cone_contacts_joined_no_rbc_alt,hue='cone_type',order=np.arange(58,71),hue_order=['S-cones','M-cones'],ci=95)\n",
    "    ax.set_xticklabels(labels)\n",
    "    ax.set(ylabel='# BCs',xlabel='BC types',ylim=(0,3.5),yticks=[0,1,2,3])\n",
    "    ax.spines['left'].set_position(('outward',3))\n",
    "    legend=plt.legend(bbox_to_anchor=(0.95, 1))\n",
    "    legend.get_title().set_fontsize(8)\n",
    "    sns.despine()\n",
    "#     plt.savefig('figures/joined_contacts_per_cone_alternative.svg',bbox_inches='tight',dpi=300)\n",
    "    plt.show()"
   ]
  },
  {
   "cell_type": "markdown",
   "metadata": {
    "collapsed": false
   },
   "source": [
    "### Contacts between rod bipolar cells and cones"
   ]
  },
  {
   "cell_type": "markdown",
   "metadata": {},
   "source": [
    "#### Contacted cones per rod bipolar cell (Figure 5C)"
   ]
  },
  {
   "cell_type": "code",
   "execution_count": 25,
   "metadata": {
    "collapsed": false
   },
   "outputs": [
    {
     "data": {
      "image/png": "[encoded data removed]",
      "text/plain": [
       "<matplotlib.figure.Figure at 0x7f00abaf84e0>"
      ]
     },
     "metadata": {},
     "output_type": "display_data"
    }
   ],
   "source": [
    "plt.figure(figsize=(2.5/2.54,3/2.54))\n",
    "sns.set(font='Arial',style='white',context='paper',rc={\"xtick.major.size\": 0, \"ytick.major.size\": 4})\n",
    "ax=sns.countplot(x='count',data=stat_bc_contacts_all[stat_bc_contacts_all['type']==71],order=np.arange(0,5),color='grey')\n",
    "ncount=len(stat_bc_contacts_all[stat_bc_contacts_all['type']==71]['cell'])\n",
    "ax.set(xlabel='Contacted cones',ylabel='# RBCs',yticks=([0,20,40,60]))\n",
    "ax2=ax.twinx()\n",
    "ax2.set(ylim=([0,ax.get_ylim()[1]/ncount*100]),yticks=[0,10,20,30,40],yticklabels=['0','10','20','30','40'],ylabel='Fraction [%]')\n",
    "ax.spines['left'].set_position(('outward',3))\n",
    "ax.spines['right'].set_position(('outward',3))\n",
    "ax2.spines['left'].set_position(('outward',3))\n",
    "ax2.spines['right'].set_position(('outward',3))\n",
    "sns.despine(right=False)\n",
    "# plt.savefig('figures/rbc_contacts_per_bc.svg',bbox_inches='tight',dpi=300)\n",
    "plt.show()"
   ]
  },
  {
   "cell_type": "markdown",
   "metadata": {},
   "source": [
    "#### Color selectivity of rod bipolar cells (Figure 5D)"
   ]
  },
  {
   "cell_type": "code",
   "execution_count": 26,
   "metadata": {
    "collapsed": false
   },
   "outputs": [
    {
     "name": "stdout",
     "output_type": "stream",
     "text": [
      "RBC - M cone contacts: 151.0\n",
      "RBC - S cone contacts: 7.0\n",
      "RBC contacts per M cone: 1.27966101695\n",
      "RBC contacts per S cone: 1.16666666667\n"
     ]
    }
   ],
   "source": [
    "print('RBC - M cone contacts:',np.sum(stat_bc_contacts_joined[(stat_bc_contacts_joined['type']==71)&(stat_bc_contacts_joined['cone_type']=='M-cones')]['count']))\n",
    "print('RBC - S cone contacts:',np.sum(stat_bc_contacts_joined[(stat_bc_contacts_joined['type']==71)&(stat_bc_contacts_joined['cone_type']=='S-cones')]['count']))\n",
    "print('RBC contacts per M cone:',np.mean(stat_cone_contacts_joined[(stat_cone_contacts_joined['type']==71)&(stat_cone_contacts_joined['cone_type']=='M-cones')]['count']))\n",
    "print('RBC contacts per S cone:',np.mean(stat_cone_contacts_joined[(stat_cone_contacts_joined['type']==71)&(stat_cone_contacts_joined['cone_type']=='S-cones')]['count']))"
   ]
  },
  {
   "cell_type": "code",
   "execution_count": 27,
   "metadata": {
    "collapsed": false
   },
   "outputs": [
    {
     "data": {
      "image/png": "[encoded data removed]",
      "text/plain": [
       "<matplotlib.figure.Figure at 0x7f00abb39a90>"
      ]
     },
     "metadata": {},
     "output_type": "display_data"
    }
   ],
   "source": [
    "sns.set(font='Arial',style='white',context='paper',rc={\"xtick.major.size\": 0, \"ytick.major.size\": 4})\n",
    "with matplotlib.rc_context({\"lines.linewidth\": 0.7}):\n",
    "    plt.figure(figsize=(2.5/2.54,3/2.54))\n",
    "    ax=sns.pointplot(x='cone_type',y='count',data=stat_cone_contacts_joined[(stat_cone_contacts_joined['type']==71)],order=['S-cones','M-cones'],ci=95,\\\n",
    "                     linestyles='',markers='s',palette=sns.color_palette(),scale=1.5)\n",
    "    ax.set(ylabel='# RBCs',ylim=(0,2),xlabel='Cone types',xticklabels=['S','M'])\n",
    "    ax.spines['left'].set_position(('outward',3))\n",
    "    sns.despine()\n",
    "#     plt.savefig('figures/rbc_color_selectivity.svg',bbox_inches='tight',dpi=300)\n",
    "    plt.show()"
   ]
  },
  {
   "cell_type": "markdown",
   "metadata": {},
   "source": [
    "#### Contacted rod bipolar cells per cone (Figure 5E)"
   ]
  },
  {
   "cell_type": "code",
   "execution_count": 28,
   "metadata": {
    "collapsed": false
   },
   "outputs": [
    {
     "data": {
      "image/png": "[encoded data removed]",
      "text/plain": [
       "<matplotlib.figure.Figure at 0x7f00ab9ff6d8>"
      ]
     },
     "metadata": {},
     "output_type": "display_data"
    }
   ],
   "source": [
    "plt.figure(figsize=(2.5/2.54,3/2.54))\n",
    "sns.set(font='Arial',style='white',context='paper',rc={\"xtick.major.size\": 0, \"ytick.major.size\": 4})\n",
    "ax=sns.countplot(x='count',data=stat_cone_contacts_all[stat_cone_contacts_all['type']==71],order=np.arange(0,4),color='grey')\n",
    "ncount=len(stat_cone_contacts_all[stat_cone_contacts_all['type']==71]['cone'])\n",
    "ax.set(xlabel='Contacted RBCs',ylabel='# cones',yticks=([0,20,40,60]))\n",
    "ax2=ax.twinx()\n",
    "ax2.set(ylim=([0,ax.get_ylim()[1]/ncount*100]),yticks=[0,10,20,30,40],yticklabels=['0','10','20','30','40'],ylabel='Fraction [%]')\n",
    "ax.spines['left'].set_position(('outward',3))\n",
    "ax.spines['right'].set_position(('outward',3))\n",
    "ax2.spines['left'].set_position(('outward',3))\n",
    "ax2.spines['right'].set_position(('outward',3))\n",
    "sns.despine(right=False)\n",
    "# plt.savefig('figures/rbc_contacts_per_cone.svg',bbox_inches='tight',dpi=300)\n",
    "plt.show()"
   ]
  },
  {
   "cell_type": "code",
   "execution_count": null,
   "metadata": {
    "collapsed": false
   },
   "outputs": [],
   "source": []
  }
 ],
 "metadata": {
  "kernelspec": {
   "display_name": "Python 3",
   "language": "python",
   "name": "python3"
  },
  "language_info": {
   "codemirror_mode": {
    "name": "ipython",
    "version": 3
   },
   "file_extension": ".py",
   "mimetype": "text/x-python",
   "name": "python",
   "nbconvert_exporter": "python",
   "pygments_lexer": "ipython3",
   "version": "3.4.3"
  }
 },
 "nbformat": 4,
 "nbformat_minor": 0
}
