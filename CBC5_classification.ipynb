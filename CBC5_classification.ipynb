{
 "cells": [
  {
   "cell_type": "markdown",
   "metadata": {},
   "source": [
    "## CBC5 classification\n",
    "This notebook contains the reclassification of the subtypes of CBC5 based on the density profiles of their axon terminal systems in the IPL. The resulting classification, together with the CBC1/2 classification from the corrigendum of Helmstaedter et al. (2013) is written to a file to be used by all other notebooks"
   ]
  },
  {
   "cell_type": "code",
   "execution_count": 1,
   "metadata": {
    "collapsed": false
   },
   "outputs": [],
   "source": [
    "import numpy as np\n",
    "import scipy.stats as stats\n",
    "import matplotlib\n",
    "import matplotlib.pyplot as plt\n",
    "from scipy.io import loadmat\n",
    "from scipy.spatial import ConvexHull\n",
    "from PIL import Image\n",
    "from PIL import ImageDraw\n",
    "import pandas as pd\n",
    "import seaborn as sns\n",
    "from sklearn.mixture import GMM\n",
    "from sklearn.decomposition import PCA\n",
    "from shapely.geometry import Polygon\n",
    "from descartes.patch import PolygonPatch\n",
    "\n",
    "%matplotlib inline\n",
    "matplotlib.rcParams.update({'font.size': 14})\n",
    "sns.set_style(\"whitegrid\")\n",
    "matplotlib.rcParams['font.family'] = 'sans-serif'\n",
    "matplotlib.rcParams['font.sans-serif'] = ['Arial']"
   ]
  },
  {
   "cell_type": "code",
   "execution_count": 4,
   "metadata": {
    "collapsed": false
   },
   "outputs": [],
   "source": [
    "BC_IDs=np.loadtxt('data/cell_IDs.csv',dtype=int,delimiter=',')\n",
    "BC_IDs=BC_IDs[(BC_IDs[:,3]>57)&(BC_IDs[:,3]<72)]"
   ]
  },
  {
   "cell_type": "code",
   "execution_count": 5,
   "metadata": {
    "collapsed": false
   },
   "outputs": [],
   "source": [
    "#CBC1/2 classification from corrigendum\n",
    "CBC1=[393,400,403,410,412,414,415,417,418,420,421,422,424,427,430,431,432,433,436,438,440,441,444,445,447,449]\n",
    "CBC2=[390,391,392,394,395,396,397,398,399,401,402,404,405,406,407,408,409,411,413,416,419,423,425,426,428,429,434,435,437,439,442,443,446,448]\n",
    "BC_IDs=np.concatenate((BC_IDs,BC_IDs[:,3].reshape(-1,1)),axis=1)\n",
    "BC_IDs[np.in1d(BC_IDs[:,0],CBC1),4]=58\n",
    "BC_IDs[np.in1d(BC_IDs[:,0],CBC2),4]=59"
   ]
  },
  {
   "cell_type": "code",
   "execution_count": 6,
   "metadata": {
    "collapsed": false
   },
   "outputs": [],
   "source": [
    "skeleton_data=loadmat('data/skeletons_OPL_final.mat')\n",
    "skeleton_ids=skeleton_data['kn_allSkeletons_e2006_IDs'].flatten()\n",
    "skeletons=skeleton_data['kn_allSkeletons_e2006'].flatten()\n",
    "M=np.loadtxt('data/coordinate_rotation')\n",
    "soma_data=loadmat('data/soma_positions.mat')\n",
    "soma_pos=soma_data['kn_e2006_ALLSKELETONS_FINAL2012_allSomata']\n",
    "soma_internal_ids=soma_data['kn_e2006_ALLSKELETONS_FINAL2012_cellIDs']\n",
    "soma_line_ids=soma_data['kn_e2006_ALLSKELETONS_FINAL2012_cellIDs_pure_forSomata']\n",
    "soma_pos=np.dot(M,soma_pos[:,:3].T).T\n",
    "soma_positions=[]\n",
    "for i in range(BC_IDs.shape[0]):\n",
    "    soma_positions.append(soma_pos[soma_line_ids[0,np.where(soma_internal_ids==BC_IDs[i,1])[1][0]]-1,:])\n",
    "soma_positions=np.array(soma_positions)"
   ]
  },
  {
   "cell_type": "code",
   "execution_count": 7,
   "metadata": {
    "collapsed": false
   },
   "outputs": [],
   "source": [
    "volume_density=np.loadtxt('data/density_data_BC_flattened.gz')"
   ]
  },
  {
   "cell_type": "code",
   "execution_count": 8,
   "metadata": {
    "collapsed": false
   },
   "outputs": [],
   "source": [
    "start_ipl=[]\n",
    "for i in range(volume_density.shape[1]):\n",
    "    try:\n",
    "        start_ipl.append(np.min(np.where(volume_density[:,i]>0)))\n",
    "    except ValueError:\n",
    "        continue\n",
    "end_ipl=[]\n",
    "for i in range(volume_density.shape[1]):\n",
    "    try:\n",
    "        end_ipl.append(np.max(np.where(volume_density[:,i]>0)))\n",
    "    except ValueError:\n",
    "        continue\n",
    "volume_density=volume_density[np.min(start_ipl):np.max(end_ipl),:]"
   ]
  },
  {
   "cell_type": "code",
   "execution_count": 9,
   "metadata": {
    "collapsed": false
   },
   "outputs": [],
   "source": [
    "cbc5_volume_density=volume_density[:,(BC_IDs[:,3]>62)&(BC_IDs[:,3]<66)]"
   ]
  },
  {
   "cell_type": "code",
   "execution_count": 10,
   "metadata": {
    "collapsed": false
   },
   "outputs": [],
   "source": [
    "cbc5_volume_density2=np.copy(cbc5_volume_density)\n",
    "cbc5_volume_density2[:1500,:]=0"
   ]
  },
  {
   "cell_type": "code",
   "execution_count": 11,
   "metadata": {
    "collapsed": false
   },
   "outputs": [],
   "source": [
    "on_sac_volume_density=np.loadtxt('data/density_data_ON_SAC_flattened.gz')\n",
    "off_sac_volume_density=np.loadtxt('data/density_data_OFF_SAC_flattened.gz')\n",
    "on_sac_volume_density=on_sac_volume_density[np.min(start_ipl):np.max(end_ipl),:]\n",
    "off_sac_volume_density=off_sac_volume_density[np.min(start_ipl):np.max(end_ipl),:]"
   ]
  },
  {
   "cell_type": "markdown",
   "metadata": {},
   "source": [
    "### Type 5 subgroups by density profiles (according to Greene, Kim et al. 2016)"
   ]
  },
  {
   "cell_type": "code",
   "execution_count": 12,
   "metadata": {
    "collapsed": false
   },
   "outputs": [],
   "source": [
    "density_PCA=PCA(n_components=3)"
   ]
  },
  {
   "cell_type": "code",
   "execution_count": 13,
   "metadata": {
    "collapsed": false
   },
   "outputs": [
    {
     "data": {
      "text/plain": [
       "PCA(copy=True, n_components=3, whiten=False)"
      ]
     },
     "execution_count": 13,
     "metadata": {},
     "output_type": "execute_result"
    }
   ],
   "source": [
    "density_PCA.fit(cbc5_volume_density2.T)"
   ]
  },
  {
   "cell_type": "markdown",
   "metadata": {},
   "source": [
    "#### Plot PCA components (Supp. figure 7A)"
   ]
  },
  {
   "cell_type": "code",
   "execution_count": 14,
   "metadata": {
    "collapsed": false
   },
   "outputs": [
    {
     "data": {
      "image/png": "[encoded data removed]",
      "text/plain": [
       "<matplotlib.figure.Figure at 0x7fbc8b433400>"
      ]
     },
     "metadata": {},
     "output_type": "display_data"
    }
   ],
   "source": [
    "plt.figure(figsize=(5.4/2.54,4/2.54))\n",
    "sns.set(font='Arial',style='whitegrid',context='paper')\n",
    "plt.plot(np.linspace(-17.423,119.651,3576),density_PCA.components_.T)\n",
    "plt.xlim(40,70)\n",
    "plt.xticks([40,50,60,70])\n",
    "plt.xlabel('IPL depths [%]')\n",
    "plt.yticks([])\n",
    "# plt.savefig('figures/type5_PCA.svg',bbox_inches='tight',dpi=300,transparent=True)\n",
    "plt.show()"
   ]
  },
  {
   "cell_type": "code",
   "execution_count": 15,
   "metadata": {
    "collapsed": false
   },
   "outputs": [],
   "source": [
    "cbc5_params=density_PCA.transform(cbc5_volume_density2.T)"
   ]
  },
  {
   "cell_type": "code",
   "execution_count": 16,
   "metadata": {
    "collapsed": false
   },
   "outputs": [],
   "source": [
    "cbc5_GMM=GMM(n_components=3,random_state=198734)\n",
    "cbc5_GMM.fit(cbc5_params)\n",
    "cbc5_prediction=cbc5_GMM.predict(cbc5_params)"
   ]
  },
  {
   "cell_type": "code",
   "execution_count": 17,
   "metadata": {
    "collapsed": true
   },
   "outputs": [],
   "source": [
    "cbc5_prediction=cbc5_GMM.predict(cbc5_params)"
   ]
  },
  {
   "cell_type": "code",
   "execution_count": 18,
   "metadata": {
    "collapsed": false
   },
   "outputs": [
    {
     "data": {
      "image/png": "[encoded data removed]",
      "text/plain": [
       "<matplotlib.figure.Figure at 0x7fbc8c8b6f28>"
      ]
     },
     "metadata": {},
     "output_type": "display_data"
    }
   ],
   "source": [
    "plt.scatter(cbc5_params[cbc5_prediction==0,0],cbc5_params[cbc5_prediction==0,2],c='b')\n",
    "plt.scatter(cbc5_params[cbc5_prediction==1,0],cbc5_params[cbc5_prediction==1,2],c='g')\n",
    "plt.scatter(cbc5_params[cbc5_prediction==2,0],cbc5_params[cbc5_prediction==2,2],c='r')\n",
    "plt.show()"
   ]
  },
  {
   "cell_type": "code",
   "execution_count": 19,
   "metadata": {
    "collapsed": false
   },
   "outputs": [],
   "source": [
    "def eval_IPL_overlap(prediction):\n",
    "    current_overlap_IPL=np.zeros(69)\n",
    "    for i in range(69):\n",
    "        current_overlap_IPL[i]=np.sum(overlaps_IPL[((overlaps_IPL[:,0]==i+390+144)&(prediction[overlaps_IPL[:,1].astype(int)-390-144]==prediction[i]))\\\n",
    "                        |((overlaps_IPL[:,1]==i+390+144)&(prediction[overlaps_IPL[:,0].astype(int)-390-144]==prediction[i])),2])\n",
    "    current_overlap_IPL/=cbc5_ipl_area\n",
    "    return(current_overlap_IPL)"
   ]
  },
  {
   "cell_type": "code",
   "execution_count": 20,
   "metadata": {
    "collapsed": false
   },
   "outputs": [],
   "source": [
    "def eval_OPL_overlap(prediction):\n",
    "    current_overlap_OPL=np.zeros(69)\n",
    "    for i in range(69):\n",
    "        current_overlap_OPL[i]=np.sum(overlaps_OPL[((overlaps_OPL[:,0]==i+390+144)&(prediction[overlaps_OPL[:,1].astype(int)-390-144]==prediction[i]))\\\n",
    "                        |((overlaps_OPL[:,1]==i+390+144)&(prediction[overlaps_OPL[:,0].astype(int)-390-144]==prediction[i])),2])\n",
    "    current_overlap_OPL/=cbc5_opl_area\n",
    "    return(current_overlap_OPL)"
   ]
  },
  {
   "cell_type": "code",
   "execution_count": 21,
   "metadata": {
    "collapsed": false
   },
   "outputs": [],
   "source": [
    "def eval_clustering_GMM(prediction):\n",
    "    distances_to_means=np.zeros(69)\n",
    "    for i in range(69):\n",
    "        distances_to_means[i]=np.sqrt(np.dot(cbc5_params[i,:]-cbc5_GMM.means_[prediction[i],:],\\\n",
    "                                     np.dot(np.diag(1/cbc5_GMM.covars_[prediction[i],:]),cbc5_params[i,:]-cbc5_GMM.means_[prediction[i],:])))\n",
    "    return(np.sum(distances_to_means))"
   ]
  },
  {
   "cell_type": "code",
   "execution_count": 22,
   "metadata": {
    "collapsed": false
   },
   "outputs": [],
   "source": [
    "l1=1;l2=1.5;l3=1.5"
   ]
  },
  {
   "cell_type": "code",
   "execution_count": 23,
   "metadata": {
    "collapsed": false
   },
   "outputs": [],
   "source": [
    "cbc5_ipl_area,overlaps_IPL=calculate_overlap((BC_IDs[:,3]>62)&(BC_IDs[:,3]<66),'IPL')\n",
    "cbc5_opl_area,overlaps_OPL=calculate_overlap((BC_IDs[:,3]>62)&(BC_IDs[:,3]<66),'OPL')"
   ]
  },
  {
   "cell_type": "code",
   "execution_count": 24,
   "metadata": {
    "collapsed": false
   },
   "outputs": [],
   "source": [
    "cbc5_overlap_opl=np.concatenate((overlaps_OPL,overlaps_OPL[:,[1,0,2]]))\n",
    "cbc5_overlap_ipl=np.concatenate((overlaps_IPL,overlaps_IPL[:,[1,0,2]]))"
   ]
  },
  {
   "cell_type": "code",
   "execution_count": 25,
   "metadata": {
    "collapsed": false
   },
   "outputs": [
    {
     "name": "stdout",
     "output_type": "stream",
     "text": [
      "iterations: 174\n",
      "switches: 13\n"
     ]
    }
   ],
   "source": [
    "num_iter=0\n",
    "num_switches=0\n",
    "switch_old=[]\n",
    "\n",
    "while True:\n",
    "    current_IPL_overlap=eval_IPL_overlap(cbc5_prediction)\n",
    "    current_OPL_overlap=eval_OPL_overlap(cbc5_prediction)\n",
    "    cost=l1*eval_clustering_GMM(cbc5_prediction)+l2*np.sum(current_IPL_overlap)+l3*np.sum(current_OPL_overlap)\n",
    "    switch_array=np.argsort(current_IPL_overlap+current_OPL_overlap)\n",
    "    switch_array=switch_array[np.in1d(switch_array,switch_old,invert=True)]\n",
    "    switch=switch_array[-1]\n",
    "    prediction_new=np.vstack((cbc5_prediction,cbc5_prediction))\n",
    "    sorting=np.argsort(cbc5_GMM.score_samples(cbc5_params[switch,:].reshape(1,-1))[1][0])\n",
    "    prediction_new[:,switch]=sorting[sorting!=cbc5_prediction[switch]]\n",
    "    if l1*eval_clustering_GMM(prediction_new[0,:])+l2*np.sum(eval_IPL_overlap(prediction_new[0,:]))+l3*np.sum(eval_OPL_overlap(prediction_new[0,:]))<cost:\n",
    "        cbc5_prediction=np.copy(prediction_new[0,:])\n",
    "        switch_old=[]\n",
    "        num_switches+=1\n",
    "    elif l1*eval_clustering_GMM(prediction_new[1,:])+l2*np.sum(eval_IPL_overlap(prediction_new[1,:]))+l3*np.sum(eval_OPL_overlap(prediction_new[1,:]))<cost:\n",
    "        cbc5_prediction=np.copy(prediction_new[1,:])\n",
    "        switch_old=[]\n",
    "        num_switches+=1\n",
    "    else:\n",
    "        new_overlaps=cbc5_overlap_ipl[(cbc5_overlap_ipl[:,0]==switch+390+144)&np.in1d(cbc5_overlap_ipl[:,1],np.where(cbc5_prediction==prediction_new[0,switch])[0]+390+144)]\n",
    "        new_overlaps[:,2]+=cbc5_overlap_opl[(cbc5_overlap_opl[:,0]==switch+390+144)&np.in1d(cbc5_overlap_opl[:,1],np.where(cbc5_prediction==prediction_new[0,switch])[0]+390+144),2]\n",
    "        new_overlaps[new_overlaps[:,2]==np.max(new_overlaps[:,2]),1][0]\n",
    "        prediction_swap=prediction_new[0,:]\n",
    "        prediction_swap[new_overlaps[new_overlaps[:,2]==np.max(new_overlaps[:,2]),1][0].astype(int)-390-144]=cbc5_prediction[switch]\n",
    "        if l1*eval_clustering_GMM(prediction_swap)+l2*np.sum(eval_IPL_overlap(prediction_swap))+l3*np.sum(eval_OPL_overlap(prediction_swap))<cost:\n",
    "            cbc5_prediction=np.copy(prediction_swap)\n",
    "            switch_old=[]\n",
    "            num_switches+=1\n",
    "        else:\n",
    "            new_overlaps=cbc5_overlap_ipl[(cbc5_overlap_ipl[:,0]==switch+390+144)&np.in1d(cbc5_overlap_ipl[:,1],np.where(cbc5_prediction==prediction_new[1,switch])[0]+390+144)]\n",
    "            new_overlaps[:,2]+=cbc5_overlap_opl[(cbc5_overlap_opl[:,0]==switch+390+144)&np.in1d(cbc5_overlap_opl[:,1],np.where(cbc5_prediction==prediction_new[1,switch])[0]+390+144),2]\n",
    "            new_overlaps[new_overlaps[:,2]==np.max(new_overlaps[:,2]),1][0]\n",
    "            prediction_swap=prediction_new[1,:]\n",
    "            prediction_swap[new_overlaps[new_overlaps[:,2]==np.max(new_overlaps[:,2]),1][0].astype(int)-390-144]=cbc5_prediction[switch]\n",
    "            if l1*eval_clustering_GMM(prediction_swap)+l2*np.sum(eval_IPL_overlap(prediction_swap))+l3*np.sum(eval_OPL_overlap(prediction_swap))<cost:\n",
    "                cbc5_prediction=np.copy(prediction_swap)\n",
    "                switch_old=[]\n",
    "                num_switches+=1\n",
    "            else:\n",
    "                switch_old.append(switch)\n",
    "    num_iter+=1\n",
    "    if len(switch_old)==cbc5_prediction.shape[0]:\n",
    "        break\n",
    "print('iterations:',num_iter)\n",
    "print('switches:',num_switches)"
   ]
  },
  {
   "cell_type": "code",
   "execution_count": 26,
   "metadata": {
    "collapsed": true
   },
   "outputs": [],
   "source": [
    "CBC5T=BC_IDs[(BC_IDs[:,3]>62)&(BC_IDs[:,3]<66),0][cbc5_prediction==1]\n",
    "CBC5O=BC_IDs[(BC_IDs[:,3]>62)&(BC_IDs[:,3]<66),0][cbc5_prediction==2]\n",
    "CBC5I=BC_IDs[(BC_IDs[:,3]>62)&(BC_IDs[:,3]<66),0][cbc5_prediction==0]"
   ]
  },
  {
   "cell_type": "code",
   "execution_count": 27,
   "metadata": {
    "collapsed": false
   },
   "outputs": [],
   "source": [
    "BC_IDs[np.in1d(BC_IDs[:,0],CBC5T),4]=63\n",
    "BC_IDs[np.in1d(BC_IDs[:,0],CBC5O),4]=64\n",
    "BC_IDs[np.in1d(BC_IDs[:,0],CBC5I),4]=65"
   ]
  },
  {
   "cell_type": "code",
   "execution_count": 28,
   "metadata": {
    "collapsed": false
   },
   "outputs": [],
   "source": [
    "# np.savetxt('data/BC_IDs_new',BC_IDs)"
   ]
  },
  {
   "cell_type": "markdown",
   "metadata": {},
   "source": [
    "#### Plot density distributions of the axon terminals of the new CBC5 subtypes (Supp. figure 7B)"
   ]
  },
  {
   "cell_type": "code",
   "execution_count": 29,
   "metadata": {
    "collapsed": false
   },
   "outputs": [
    {
     "data": {
      "image/png": "[encoded data removed]",
      "text/plain": [
       "<matplotlib.figure.Figure at 0x7fbc8bd9f2b0>"
      ]
     },
     "metadata": {},
     "output_type": "display_data"
    }
   ],
   "source": [
    "plt.figure(figsize=(9/2.54,4/2.54))\n",
    "sns.set(font='Arial',style='whitegrid',context='paper')\n",
    "plt.plot(np.linspace(-17.423,119.651,3576),np.sum(cbc5_volume_density[:,cbc5_prediction==1],axis=1)/np.sum(cbc5_volume_density[:,cbc5_prediction==1]),label='CBC 5T')\n",
    "plt.plot(np.linspace(-17.423,119.651,3576),np.sum(cbc5_volume_density[:,cbc5_prediction==2],axis=1)/np.sum(cbc5_volume_density[:,cbc5_prediction==2]),label='CBC 5O')\n",
    "plt.plot(np.linspace(-17.423,119.651,3576),np.sum(cbc5_volume_density[:,cbc5_prediction==0],axis=1)/np.sum(cbc5_volume_density[:,cbc5_prediction==0]),label='CBC 5I')\n",
    "plt.plot(np.linspace(-17.423,119.651,3576),np.sum(off_sac_volume_density,axis=1)/np.sum(off_sac_volume_density[700:,:]),label='OFF SAC')\n",
    "plt.plot(np.linspace(-17.423,119.651,3576),np.sum(on_sac_volume_density,axis=1)/np.sum(on_sac_volume_density[:2300,:]),label='ON SAC')\n",
    "plt.xlabel('IPL depths [%]')\n",
    "plt.yticks([])\n",
    "plt.xlim(20,70)\n",
    "plt.legend(bbox_to_anchor=(0.6, 1.05))\n",
    "# plt.savefig('figures/type5_profiles.svg',bbox_inches='tight',dpi=300,transparent=True)\n",
    "plt.show()"
   ]
  },
  {
   "cell_type": "markdown",
   "metadata": {},
   "source": [
    "#### Plot dendritic and axonal mosaics of the new CBC5 subtypes (Supp. figure 7C)"
   ]
  },
  {
   "cell_type": "code",
   "execution_count": null,
   "metadata": {
    "collapsed": false
   },
   "outputs": [],
   "source": [
    "#5T\n",
    "plot_mosaic(CBC5T-390,'IPL')\n",
    "plot_mosaic(CBC5T-390,'OPL')"
   ]
  },
  {
   "cell_type": "code",
   "execution_count": null,
   "metadata": {
    "collapsed": false
   },
   "outputs": [],
   "source": [
    "#5O\n",
    "plot_mosaic(np.where(cbc5_prediction==2)[0]+144,'IPL')\n",
    "plot_mosaic(CBC5O-390,'OPL')"
   ]
  },
  {
   "cell_type": "code",
   "execution_count": null,
   "metadata": {
    "collapsed": false
   },
   "outputs": [],
   "source": [
    "#5I\n",
    "plot_mosaic(CBC5T-390,'IPL')\n",
    "plot_mosaic(CBC5I-390,'OPL')"
   ]
  },
  {
   "cell_type": "markdown",
   "metadata": {},
   "source": [
    "#### Function definitions"
   ]
  },
  {
   "cell_type": "code",
   "execution_count": 2,
   "metadata": {
    "collapsed": true
   },
   "outputs": [],
   "source": [
    "def calculate_overlap(selection,layer):\n",
    "    total_nodes=np.empty((0,2))\n",
    "    polygons=[]\n",
    "    for cell in BC_IDs[selection,0]:\n",
    "        nodes_cell=np.empty((0,3))\n",
    "        for skel in np.where(skeleton_ids==cell)[0]:\n",
    "            nodes=skeletons[skel].item()[list(skeletons[skel].dtype.names).index('nodes')][:,:3]/[16.5,16.5,25]\n",
    "            if nodes.shape[0]<2:\n",
    "                continue\n",
    "            nodes=np.dot(M,nodes.T).T\n",
    "            edges=skeletons[skel].item()[list(skeletons[skel].dtype.names).index('edges')]\n",
    "            soma_pos_cell=soma_positions[BC_IDs[:,0]==cell,0]*16.5\n",
    "            if layer=='OPL':\n",
    "                nodes=(nodes*[16.5,16.5,25]+[0,3250,15000]).astype(int)\n",
    "                nodes_cell=np.concatenate((nodes_cell,nodes[nodes[:,0]<soma_pos_cell,0:3]),axis=0)\n",
    "            elif layer=='IPL':\n",
    "                nodes=(nodes*[16.5,16.5,25]+[0,5000,19000]).astype(int)\n",
    "                nodes_cell=np.concatenate((nodes_cell,nodes[nodes[:,0]>soma_pos_cell,0:3]),axis=0)\n",
    "            else:\n",
    "                print(\"Layer has to be 'IPL' or 'OPL'\")\n",
    "                return([],[])\n",
    "        if nodes_cell.shape[0]>2:\n",
    "            nodes_cell=nodes_cell[:,1:]/[25,25]\n",
    "            total_nodes=np.concatenate((total_nodes,nodes_cell),axis=0)\n",
    "            hull=ConvexHull(nodes_cell)\n",
    "            polygons.append(Polygon(nodes_cell[hull.vertices,:]))\n",
    "    hull=ConvexHull(total_nodes)\n",
    "    overlaps=[]\n",
    "    area=[]\n",
    "    for i in range(len(polygons)):\n",
    "        area.append(polygons[i].area)\n",
    "        for j in range(i+1,len(polygons)):\n",
    "            overlaps.append([BC_IDs[selection,0][i],BC_IDs[selection,0][j],polygons[i].intersection(polygons[j]).area])\n",
    "    overlaps=np.array(overlaps)\n",
    "    area=np.array(area)\n",
    "    return(area,overlaps)"
   ]
  },
  {
   "cell_type": "code",
   "execution_count": 3,
   "metadata": {
    "collapsed": true
   },
   "outputs": [],
   "source": [
    "def plot_mosaic(selection,layer='OPL'):\n",
    "    im=Image.new('RGBA',(4800,3600),(255,255,255,0))\n",
    "    draw = ImageDraw.Draw(im)\n",
    "    draw.line([(0,0),(0,3599)],fill=(0,0,255,255),width=1)\n",
    "    draw.line([(0,3599),(4799,3599)],fill=(0,0,255,255),width=1)\n",
    "    draw.line([(4799,3599),(4799,0)],fill=(0,0,255,255),width=1)\n",
    "    draw.line([(4799,0),(0,0)],fill=(0,0,255,255),width=1)\n",
    "    del draw\n",
    "    for cell in BC_IDs[selection,0]:\n",
    "        nodes_cell=np.empty((0,3))\n",
    "        for skel in np.where(skeleton_ids==cell)[0]:\n",
    "            nodes=skeletons[skel].item()[list(skeletons[skel].dtype.names).index('nodes')][:,:3]/[16.5,16.5,25]\n",
    "            if nodes.shape[0]<2:\n",
    "                continue\n",
    "            nodes=np.dot(M,nodes.T).T\n",
    "            edges=skeletons[skel].item()[list(skeletons[skel].dtype.names).index('edges')]\n",
    "            soma_pos_cell=soma_positions[BC_IDs[:,0]==cell,0]*16.5\n",
    "            draw = ImageDraw.Draw(im)\n",
    "            if layer=='OPL':\n",
    "                nodes=(nodes*[16.5,16.5,25]+[0,3250,15000]).astype(int)\n",
    "                for i in range(edges.shape[0]):\n",
    "                    if (nodes[edges[i,0]-1,0]<soma_pos_cell) and (nodes[edges[i,1]-1,0]<soma_pos_cell):\n",
    "                        draw.line([tuple(nodes[edges[i,0]-1,1:3]/[25,25]),tuple(nodes[edges[i,1]-1,1:3]/[25,25])],fill=(0,0,0,150),width=5)\n",
    "                del draw\n",
    "                nodes=nodes[np.unique(edges).astype(int)-1,:]\n",
    "                nodes_cell=np.concatenate((nodes_cell,nodes[nodes[:,0]<soma_pos_cell,0:3]),axis=0)\n",
    "            elif layer=='IPL':\n",
    "                nodes=(nodes*[16.5,16.5,25]+[0,5000,19000]).astype(int)\n",
    "                for i in range(edges.shape[0]):\n",
    "                    if (nodes[edges[i,0]-1,0]>soma_pos_cell) and (nodes[edges[i,1]-1,0]>soma_pos_cell):\n",
    "                        draw.line([tuple(nodes[edges[i,0]-1,1:3]/[25,25]),tuple(nodes[edges[i,1]-1,1:3]/[25,25])],fill=(0,0,0,150),width=5)\n",
    "                del draw\n",
    "                nodes=nodes[np.unique(edges).astype(int)-1,:]\n",
    "                nodes_cell=np.concatenate((nodes_cell,nodes[nodes[:,0]>soma_pos_cell,0:3]),axis=0)\n",
    "            else:\n",
    "                print(\"Layer has to be 'IPL' or 'OPL'\")\n",
    "                return im\n",
    "        if nodes_cell.shape[0]>2:\n",
    "            nodes_cell=nodes_cell[:,1:]/[25,25]\n",
    "            hull=ConvexHull(nodes_cell)\n",
    "            draw = ImageDraw.Draw(im)\n",
    "            for simplex in hull.simplices:\n",
    "                draw.line([tuple(nodes_cell[simplex[0],:]),tuple(nodes_cell[simplex[1],:])],fill=(0,0,255,255),width=5)\n",
    "            del draw\n",
    "    plt.figure(figsize=(15,15))\n",
    "    plt.imshow(im)"
   ]
  },
  {
   "cell_type": "code",
   "execution_count": null,
   "metadata": {
    "collapsed": true
   },
   "outputs": [],
   "source": []
  }
 ],
 "metadata": {
  "kernelspec": {
   "display_name": "Python 3",
   "language": "python",
   "name": "python3"
  },
  "language_info": {
   "codemirror_mode": {
    "name": "ipython",
    "version": 3
   },
   "file_extension": ".py",
   "mimetype": "text/x-python",
   "name": "python",
   "nbconvert_exporter": "python",
   "pygments_lexer": "ipython3",
   "version": "3.4.3"
  }
 },
 "nbformat": 4,
 "nbformat_minor": 0
}
