{
 "cells": [
  {
   "cell_type": "markdown",
   "metadata": {},
   "source": [
    "## Contact density distribution for bipolar cell types\n",
    "This notebook calculates the contact density distribution for all bipolar cell types and generates figures 3H&I"
   ]
  },
  {
   "cell_type": "code",
   "execution_count": 1,
   "metadata": {
    "collapsed": false
   },
   "outputs": [],
   "source": [
    "import numpy as np\n",
    "import matplotlib\n",
    "import matplotlib.pyplot as plt\n",
    "from scipy.io import loadmat\n",
    "import pandas as pd\n",
    "import seaborn as sns\n",
    "from scipy.spatial import ConvexHull\n",
    "from scipy.spatial import distance_matrix\n",
    "%matplotlib inline\n",
    "matplotlib.rc('font',**{'family':'sans-serif','sans-serif':['Arial']})\n",
    "matplotlib.rcParams.update({'mathtext.default': 'regular'})\n",
    "matplotlib.rcParams.update({'font.size': 14})\n",
    "sns.set_style(\"whitegrid\")"
   ]
  },
  {
   "cell_type": "code",
   "execution_count": 3,
   "metadata": {
    "collapsed": false
   },
   "outputs": [],
   "source": [
    "skeleton_data=loadmat('data/skeletons_OPL_final.mat')\n",
    "skeleton_ids=skeleton_data['kn_allSkeletons_e2006_IDs'].flatten()\n",
    "skeletons=skeleton_data['kn_allSkeletons_e2006'].flatten()\n",
    "M=np.loadtxt('data/coordinate_rotation')"
   ]
  },
  {
   "cell_type": "code",
   "execution_count": 5,
   "metadata": {
    "collapsed": false
   },
   "outputs": [],
   "source": [
    "soma_data=loadmat('data/soma_positions.mat')\n",
    "soma_pos=soma_data['kn_e2006_ALLSKELETONS_FINAL2012_allSomata'].astype(float)\n",
    "soma_internal_ids=soma_data['kn_e2006_ALLSKELETONS_FINAL2012_cellIDs']\n",
    "soma_line_ids=soma_data['kn_e2006_ALLSKELETONS_FINAL2012_cellIDs_pure_forSomata']\n",
    "soma_pos[:,:3]=np.dot(M,soma_pos[:,:3].T).T\n",
    "soma_pos[:,:3]*=[16.5,16.5,25]"
   ]
  },
  {
   "cell_type": "code",
   "execution_count": 6,
   "metadata": {
    "collapsed": false
   },
   "outputs": [],
   "source": [
    "cone_means=np.loadtxt('data/cone_means_rot.txt')\n",
    "cone_means[:,1:]*=[16.5,16.5,25]"
   ]
  },
  {
   "cell_type": "code",
   "execution_count": 7,
   "metadata": {
    "collapsed": false
   },
   "outputs": [],
   "source": [
    "cell_ids=np.loadtxt('data/BC_IDs_new')"
   ]
  },
  {
   "cell_type": "code",
   "execution_count": 8,
   "metadata": {
    "collapsed": false
   },
   "outputs": [],
   "source": [
    "contact_summary=pd.read_pickle('data/cone_contact_predictions')\n",
    "true_contacts=contact_summary[(contact_summary['prediction']==1)&\\\n",
    "                              ((contact_summary['cone_type']=='blue')|(contact_summary['cone_type']=='green'))]\\\n",
    "                                .reset_index().drop('index',axis=1)"
   ]
  },
  {
   "cell_type": "code",
   "execution_count": 9,
   "metadata": {
    "collapsed": false
   },
   "outputs": [],
   "source": [
    "for i in range(true_contacts.shape[0]):\n",
    "    true_contacts.loc[i,'BC_excentricity']=np.linalg.norm(\\\n",
    "        soma_pos[soma_line_ids[0,np.where(soma_internal_ids==cell_ids[cell_ids[:,0]==true_contacts.ix[i,'cell'],1])[1][0]]-1,1:3]\\\n",
    "        -cone_means[cone_means[:,0]==true_contacts.ix[i,'cone'],2:])/1000"
   ]
  },
  {
   "cell_type": "code",
   "execution_count": 10,
   "metadata": {
    "collapsed": false
   },
   "outputs": [],
   "source": [
    "BC_data=np.hstack((cell_ids[:,[0,4]],np.zeros((cell_ids.shape[0],1))))\n",
    "for i in range(BC_data.shape[0]):\n",
    "    nodes_complete=np.empty((0,3))\n",
    "    for skel in np.where(skeleton_ids==BC_data[i,0])[0]:\n",
    "        nodes=skeletons[skel].item()[list(skeletons[skel].dtype.names).index('nodes')][:,:3]\n",
    "        edges=skeletons[skel].item()[list(skeletons[skel].dtype.names).index('edges')]\n",
    "        nodes=nodes[np.unique(edges)-1,:]\n",
    "        nodes=nodes[:,:3]/[16.5,16.5,25]\n",
    "        nodes=np.dot(M,nodes.T).T\n",
    "        nodes_complete=np.concatenate((nodes_complete,nodes[nodes[:,0]<soma_pos[soma_line_ids[0,np.where(soma_internal_ids==cell_ids[i,1])[1][0]]-1,0],0:3]),axis=0)\n",
    "    nodes_complete=nodes_complete[:,1:]*[16.5,25]\n",
    "    hull=ConvexHull(nodes_complete)\n",
    "    hull_to_soma=nodes_complete[hull.vertices,:]-soma_pos[soma_line_ids[0,np.where(soma_internal_ids==cell_ids[i,1])[1][0]]-1,1:3]\n",
    "    BC_data[i,2]=np.max(np.sqrt(hull_to_soma[:,0]**2+hull_to_soma[:,1]**2))/1000\n",
    "BC_data=pd.DataFrame(BC_data,columns=['cell','type','rad_max'])"
   ]
  },
  {
   "cell_type": "code",
   "execution_count": 11,
   "metadata": {
    "collapsed": false
   },
   "outputs": [],
   "source": [
    "for i in range(true_contacts.shape[0]):\n",
    "    true_contacts.loc[i,'BC_excentricity_norm_max']=true_contacts.ix[i,'BC_excentricity']/BC_data[BC_data['cell']==true_contacts.ix[i,'cell']]['rad_max'].item()"
   ]
  },
  {
   "cell_type": "code",
   "execution_count": 12,
   "metadata": {
    "collapsed": false
   },
   "outputs": [],
   "source": [
    "pal = sns.color_palette(\"Paired\",12)\n",
    "pal=pal+[(0.3,0.3,0.3)]"
   ]
  },
  {
   "cell_type": "code",
   "execution_count": 13,
   "metadata": {
    "collapsed": false
   },
   "outputs": [
    {
     "name": "stderr",
     "output_type": "stream",
     "text": [
      "/gpfs01/bethge/home/cbehrens/.virtualenvs/default/lib/python3.4/site-packages/statsmodels/nonparametric/kdetools.py:20: VisibleDeprecationWarning: using a non-integer number instead of an integer will result in an error in the future\n",
      "  y = X[:m/2+1] + np.r_[0,X[m/2+1:],0]*1j\n"
     ]
    },
    {
     "data": {
      "image/png": "[encoded data removed]",
      "text/plain": [
       "<matplotlib.figure.Figure at 0x7f023a376668>"
      ]
     },
     "metadata": {},
     "output_type": "display_data"
    }
   ],
   "source": [
    "plt.figure(figsize=(8/2.54,4/2.54))\n",
    "sns.set(font='Arial',style='white',context='paper',rc={\"xtick.major.size\": 4, \"ytick.major.size\": 4,\"lines.linewidth\":0.7})\n",
    "ax=sns.kdeplot(true_contacts[true_contacts['type']==58]['BC_excentricity'],label=str(58),c=pal[0])\n",
    "for i in range(59,71):\n",
    "    sns.kdeplot(true_contacts[true_contacts['type']==i]['BC_excentricity'],label=str(i),ax=ax,c=pal[i-58])\n",
    "ax.set(xlim=(0,80),xlabel='Distance from soma [µm]',ylabel='Contact density',yticks=[])\n",
    "plt.legend(ncol=3,labels=['1','2','3A','3B','4','5T','5O','5I','X','6','7','8','9'])\n",
    "sns.despine()\n",
    "# plt.savefig('figures/contact_distribution.svg',bbox_inches='tight',dpi=300,background='transparent')\n",
    "plt.show( )"
   ]
  },
  {
   "cell_type": "code",
   "execution_count": 14,
   "metadata": {
    "collapsed": false
   },
   "outputs": [
    {
     "name": "stderr",
     "output_type": "stream",
     "text": [
      "/gpfs01/bethge/home/cbehrens/.virtualenvs/default/lib/python3.4/site-packages/statsmodels/nonparametric/kdetools.py:20: VisibleDeprecationWarning: using a non-integer number instead of an integer will result in an error in the future\n",
      "  y = X[:m/2+1] + np.r_[0,X[m/2+1:],0]*1j\n"
     ]
    },
    {
     "data": {
      "image/png": "[encoded data removed]",
      "text/plain": [
       "<matplotlib.figure.Figure at 0x7f029dfd1c88>"
      ]
     },
     "metadata": {},
     "output_type": "display_data"
    }
   ],
   "source": [
    "plt.figure(figsize=(8/2.54,4/2.54))\n",
    "sns.set(font='Arial',style='white',context='paper',rc={\"xtick.major.size\": 4, \"ytick.major.size\": 4,\"lines.linewidth\":0.7})\n",
    "ax=sns.kdeplot(true_contacts[true_contacts['type']==58]['BC_excentricity_norm_max'],label=str(58),c=pal[0])\n",
    "for i in range(59,71):\n",
    "    sns.kdeplot(true_contacts[true_contacts['type']==i]['BC_excentricity_norm_max'],label=str(i),ax=ax,c=pal[i-58])\n",
    "ax.set(xlim=(0,1.2),xlabel='Distance from soma (normalized)',xticks=(0,0.2,0.4,0.6,0.8,1,1.2),ylabel='Contact density',yticks=[])\n",
    "# plt.legend(ncol=2,labels=['1','2','3A','3B','4','5T','5O','5I','X','6','7','8','9'],bbox_to_anchor=(1.05,1))\n",
    "ax.legend_.remove()\n",
    "sns.despine()\n",
    "# plt.savefig('figures/paper/contact_distribution_normalized.svg',bbox_inches='tight',dpi=300,background='transparent')\n",
    "plt.show()"
   ]
  },
  {
   "cell_type": "code",
   "execution_count": null,
   "metadata": {
    "collapsed": true
   },
   "outputs": [],
   "source": []
  }
 ],
 "metadata": {
  "kernelspec": {
   "display_name": "Python 3",
   "language": "python",
   "name": "python3"
  },
  "language_info": {
   "codemirror_mode": {
    "name": "ipython",
    "version": 3
   },
   "file_extension": ".py",
   "mimetype": "text/x-python",
   "name": "python",
   "nbconvert_exporter": "python",
   "pygments_lexer": "ipython3",
   "version": "3.4.3"
  }
 },
 "nbformat": 4,
 "nbformat_minor": 0
}
