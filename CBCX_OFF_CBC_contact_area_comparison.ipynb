{
 "cells": [
  {
   "cell_type": "markdown",
   "metadata": {},
   "source": [
    "## Comparision between the size of basal contacts of CBCX and OFF-CBCs"
   ]
  },
  {
   "cell_type": "code",
   "execution_count": 1,
   "metadata": {
    "collapsed": false
   },
   "outputs": [],
   "source": [
    "import numpy as np\n",
    "import pandas as pd\n",
    "from scipy.stats import ranksums\n",
    "import matplotlib\n",
    "import matplotlib.pyplot as plt\n",
    "import seaborn as sns\n",
    "from scipy.io import loadmat\n",
    "%matplotlib inline\n",
    "matplotlib.rc('font',**{'family':'sans-serif','sans-serif':['Arial']})\n",
    "matplotlib.rcParams.update({'mathtext.default': 'regular'})\n",
    "matplotlib.rcParams.update({'font.size': 14})\n",
    "sns.set_style(\"whitegrid\")"
   ]
  },
  {
   "cell_type": "code",
   "execution_count": 2,
   "metadata": {
    "collapsed": false
   },
   "outputs": [],
   "source": [
    "BC_ids=np.loadtxt('data/BC_IDs_new').astype(int)\n",
    "all_contacts=pd.read_pickle('data/cone_contact_data')\n",
    "tip_contacts=np.loadtxt('data/CBCX_OFF_CBC_contact_comparison.csv',delimiter=',')[:,:4].astype(int)\n",
    "tip_contacts=pd.DataFrame(tip_contacts,columns=['cell','cone','type','contact_id'])"
   ]
  },
  {
   "cell_type": "code",
   "execution_count": 3,
   "metadata": {
    "collapsed": false
   },
   "outputs": [],
   "source": [
    "for i in range(tip_contacts.shape[0]):\n",
    "    tip_contacts.loc[i,'area']=all_contacts[all_contacts['contact_id']==tip_contacts.ix[i,'contact_id']]['area'].item()"
   ]
  },
  {
   "cell_type": "code",
   "execution_count": 4,
   "metadata": {
    "collapsed": true
   },
   "outputs": [],
   "source": [
    "tip_contacts=tip_contacts[tip_contacts['area']>0].reset_index().drop('index',axis=1)"
   ]
  },
  {
   "cell_type": "code",
   "execution_count": 6,
   "metadata": {
    "collapsed": false
   },
   "outputs": [
    {
     "name": "stdout",
     "output_type": "stream",
     "text": [
      "CBCX contact area (median): 0.052246295\n",
      "OFF-CBC contact area (median): 0.09793078\n"
     ]
    }
   ],
   "source": [
    "print('CBCX contact area (median):',np.median(tip_contacts[tip_contacts['type']==66]['area'])/1e6)\n",
    "print('OFF-CBC contact area (median):',np.median(tip_contacts[(tip_contacts['type']<65)]['area'])/1e6)"
   ]
  },
  {
   "cell_type": "code",
   "execution_count": 7,
   "metadata": {
    "collapsed": false
   },
   "outputs": [
    {
     "data": {
      "text/plain": [
       "RanksumsResult(statistic=-1.3599527413751495, pvalue=0.17384487934678605)"
      ]
     },
     "execution_count": 7,
     "metadata": {},
     "output_type": "execute_result"
    }
   ],
   "source": [
    "ranksums(tip_contacts[tip_contacts['type']==66]['area'],tip_contacts[(tip_contacts['type']<65)]['area'])"
   ]
  },
  {
   "cell_type": "code",
   "execution_count": null,
   "metadata": {
    "collapsed": true
   },
   "outputs": [],
   "source": []
  }
 ],
 "metadata": {
  "kernelspec": {
   "display_name": "Python 3",
   "language": "python",
   "name": "python3"
  },
  "language_info": {
   "codemirror_mode": {
    "name": "ipython",
    "version": 3
   },
   "file_extension": ".py",
   "mimetype": "text/x-python",
   "name": "python",
   "nbconvert_exporter": "python",
   "pygments_lexer": "ipython3",
   "version": "3.4.3"
  }
 },
 "nbformat": 4,
 "nbformat_minor": 0
}
