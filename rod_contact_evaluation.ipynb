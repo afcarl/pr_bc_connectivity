{
 "cells": [
  {
   "cell_type": "markdown",
   "metadata": {},
   "source": [
    "## Evaluation of classified contacts between rods and bipolar cells\n",
    "This notebook contains the code to reproduce all plots in figure 6 showing statistics about the rod-BC contacts"
   ]
  },
  {
   "cell_type": "code",
   "execution_count": 1,
   "metadata": {
    "collapsed": false
   },
   "outputs": [],
   "source": [
    "import numpy as np\n",
    "import scipy.linalg\n",
    "from scipy.stats import itemfreq\n",
    "import matplotlib\n",
    "import matplotlib.pyplot as plt\n",
    "from scipy.io import loadmat\n",
    "import pandas as pd\n",
    "import seaborn as sns\n",
    "from sklearn import cross_validation\n",
    "from sklearn import svm\n",
    "%matplotlib inline\n",
    "matplotlib.rc('font',**{'family':'sans-serif','sans-serif':['Arial']})\n",
    "matplotlib.rcParams.update({'mathtext.default': 'regular'})\n",
    "matplotlib.rcParams.update({'font.size': 14})\n",
    "sns.set_style(\"whitegrid\")"
   ]
  },
  {
   "cell_type": "code",
   "execution_count": 2,
   "metadata": {
    "collapsed": false
   },
   "outputs": [],
   "source": [
    "BC_ids=np.loadtxt('data/BC_IDs_new')"
   ]
  },
  {
   "cell_type": "code",
   "execution_count": 3,
   "metadata": {
    "collapsed": false
   },
   "outputs": [],
   "source": [
    "BC_in_rod_area=np.loadtxt('data/BC_in_rod_area')"
   ]
  },
  {
   "cell_type": "code",
   "execution_count": 4,
   "metadata": {
    "collapsed": false
   },
   "outputs": [],
   "source": [
    "BC_excluded=np.array([691,709,827,836])\n",
    "rod_excluded=np.array([3309])"
   ]
  },
  {
   "cell_type": "code",
   "execution_count": 5,
   "metadata": {
    "collapsed": false
   },
   "outputs": [],
   "source": [
    "contact_summary=pd.read_pickle('data/rod_contact_predictions')"
   ]
  },
  {
   "cell_type": "code",
   "execution_count": 6,
   "metadata": {
    "collapsed": false
   },
   "outputs": [],
   "source": [
    "true_contacts=contact_summary.ix[(contact_summary['prediction']==1)]\n",
    "true_contacts=true_contacts[np.in1d(true_contacts['cell'],BC_in_rod_area)].reset_index().drop('index',axis=1)"
   ]
  },
  {
   "cell_type": "code",
   "execution_count": 7,
   "metadata": {
    "collapsed": false
   },
   "outputs": [],
   "source": [
    "stat_bc_contacts=pd.DataFrame(BC_ids[(((BC_ids[:,4]>=58)&(BC_ids[:,4]<=62))|(BC_ids[:,4]==71))\\\n",
    "                                       &np.in1d(BC_ids[:,0],BC_excluded,invert=True)][:,[0,4]],columns=['cell','type'])\n",
    "contact_freq_type=itemfreq(true_contacts['cell'].as_matrix())\n",
    "for i in range(stat_bc_contacts.shape[0]):\n",
    "    stat_bc_contacts.loc[i,'count']=0\n",
    "    try:\n",
    "        stat_bc_contacts.ix[i,'count']=contact_freq_type[contact_freq_type[:,0]==stat_bc_contacts.ix[i,'cell'],1]\n",
    "    except ValueError:\n",
    "        continue\n",
    "stat_bc_contacts=stat_bc_contacts[np.in1d(stat_bc_contacts['cell'],BC_in_rod_area)]"
   ]
  },
  {
   "cell_type": "code",
   "execution_count": 8,
   "metadata": {
    "collapsed": false
   },
   "outputs": [],
   "source": [
    "rod_ids=np.unique(contact_summary['rod'].as_matrix())"
   ]
  },
  {
   "cell_type": "code",
   "execution_count": 9,
   "metadata": {
    "collapsed": false
   },
   "outputs": [],
   "source": [
    "stat_rod_contacts=pd.DataFrame(np.concatenate((np.tile(rod_ids,14).reshape(-1,1),np.repeat(np.arange(58,72),rod_ids.shape[0]).reshape(-1,1)),axis=1),columns=['rod','type'])\n",
    "\n",
    "for i in range(stat_rod_contacts.shape[0]):\n",
    "    stat_rod_contacts.loc[i,'count']=np.sum((true_contacts['rod']==stat_rod_contacts.ix[i,'rod'])&\\\n",
    "                                                   (true_contacts['type']==stat_rod_contacts.ix[i,'type']))\n",
    "stat_rod_contacts=stat_rod_contacts[np.in1d(stat_rod_contacts['type'],np.array([58,59,60,61,62,71]))]"
   ]
  },
  {
   "cell_type": "code",
   "execution_count": 10,
   "metadata": {
    "collapsed": false
   },
   "outputs": [],
   "source": [
    "rod_ids_off=np.unique(true_contacts['rod'])"
   ]
  },
  {
   "cell_type": "code",
   "execution_count": 11,
   "metadata": {
    "collapsed": false
   },
   "outputs": [],
   "source": [
    "stat_rod_contacts_off=pd.DataFrame(rod_ids_off,columns=['rod'])\n",
    "\n",
    "for i in range(stat_rod_contacts_off.shape[0]):\n",
    "    stat_rod_contacts_off.loc[i,'count']=np.sum((true_contacts['rod']==stat_rod_contacts.ix[i,'rod'])&\\\n",
    "                                                   (true_contacts['type']<71))"
   ]
  },
  {
   "cell_type": "markdown",
   "metadata": {},
   "source": [
    "#### Number of contacted rods per bipolar cell, averaged over BC type (Figure 6D)"
   ]
  },
  {
   "cell_type": "code",
   "execution_count": 12,
   "metadata": {
    "collapsed": false
   },
   "outputs": [
    {
     "data": {
      "image/png": "[encoded data removed]",
      "text/plain": [
       "<matplotlib.figure.Figure at 0x7f911e56e160>"
      ]
     },
     "metadata": {},
     "output_type": "display_data"
    }
   ],
   "source": [
    "labels = ['1','2','3A','3B','4','RBC']\n",
    "plt.figure(figsize=(3/2.54,3/2.54))\n",
    "sns.set(font='Arial',style='white',context='paper',rc={\"xtick.major.size\": 0, \"ytick.major.size\": 4})\n",
    "with matplotlib.rc_context({\"lines.linewidth\": 0.7}):\n",
    "    ax=sns.barplot(x='type',y='count',data=stat_bc_contacts,order=[58,59,60,61,62,71],ci=95,color='grey')\n",
    "    ax.set_xticklabels(labels)\n",
    "    ax.set(ylabel='# rods',ylim=(0,40),xlabel='BC types',yticks=[0,10,20,30,40])\n",
    "    ax.spines['left'].set_position(('outward',3))\n",
    "    sns.despine()\n",
    "#     plt.savefig('figures/rod_contacts_per_bc.svg',bbox_inches='tight',dpi=300)\n",
    "    plt.show()"
   ]
  },
  {
   "cell_type": "markdown",
   "metadata": {},
   "source": [
    "#### Numer of contacted rod bipolar cells per rod (Figure 6E)"
   ]
  },
  {
   "cell_type": "code",
   "execution_count": 13,
   "metadata": {
    "collapsed": false
   },
   "outputs": [
    {
     "data": {
      "image/png": "[encoded data removed]",
      "text/plain": [
       "<matplotlib.figure.Figure at 0x7f911be93a90>"
      ]
     },
     "metadata": {},
     "output_type": "display_data"
    }
   ],
   "source": [
    "plt.figure(figsize=(3/2.54,3/2.54))\n",
    "sns.set(font='Arial',style='white',context='paper',rc={\"xtick.major.size\": 0, \"ytick.major.size\": 4})\n",
    "ax=sns.countplot(x='count',data=stat_rod_contacts[stat_rod_contacts['type']==71],order=np.arange(0,4),color='grey')\n",
    "ncount=len(stat_rod_contacts[stat_rod_contacts['type']==71]['rod'])\n",
    "ax.set(xlabel='Contacted RBCs',ylabel='# rods',yticks=[0,200,400,600,800])\n",
    "ax2=ax.twinx()\n",
    "ax2.set(ylim=([0,ax.get_ylim()[1]/ncount*100]),yticks=[0,10,20,30,40,50],yticklabels=['0','10','20','30','40','50'],ylabel='Fraction [%]')\n",
    "ax.spines['left'].set_position(('outward',3))\n",
    "ax.spines['right'].set_position(('outward',3))\n",
    "ax2.spines['left'].set_position(('outward',3))\n",
    "ax2.spines['right'].set_position(('outward',3))\n",
    "sns.despine(right=False)\n",
    "# plt.savefig('figures/rbc_contacts_per_rod.svg',bbox_inches='tight',dpi=300)\n",
    "plt.show()"
   ]
  },
  {
   "cell_type": "markdown",
   "metadata": {},
   "source": [
    "#### Numer of contacted OFF cone bipolar cells per rod (Figure 6F)"
   ]
  },
  {
   "cell_type": "code",
   "execution_count": 14,
   "metadata": {
    "collapsed": false
   },
   "outputs": [
    {
     "data": {
      "image/png": "[encoded data removed]",
      "text/plain": [
       "<matplotlib.figure.Figure at 0x7f911be9db00>"
      ]
     },
     "metadata": {},
     "output_type": "display_data"
    }
   ],
   "source": [
    "plt.figure(figsize=(3/2.54,3/2.54))\n",
    "sns.set(font='Arial',style='white',context='paper',rc={\"xtick.major.size\": 0, \"ytick.major.size\": 4})\n",
    "ax=sns.countplot(x='count',data=stat_rod_contacts_off,order=np.arange(0,4),color='grey')\n",
    "ncount=len(stat_rod_contacts_off['rod'])\n",
    "ax.set(xlabel='Contacted CBCs',ylabel='# rods',yticks=[0,500,1000,1500])\n",
    "ax2=ax.twinx()\n",
    "ax2.set(ylim=([0,ax.get_ylim()[1]/ncount*100]),yticks=[0,20,40,60,80,100],yticklabels=['0','20','40','60','80','100'],ylabel='Fraction [%]')\n",
    "ax.spines['left'].set_position(('outward',3))\n",
    "ax.spines['right'].set_position(('outward',3))\n",
    "ax2.spines['left'].set_position(('outward',3))\n",
    "ax2.spines['right'].set_position(('outward',3))\n",
    "sns.despine(right=False)\n",
    "# plt.savefig('figures/cbc_contacts_per_rod.svg',bbox_inches='tight',dpi=300)\n",
    "plt.show()"
   ]
  },
  {
   "cell_type": "code",
   "execution_count": null,
   "metadata": {
    "collapsed": false
   },
   "outputs": [],
   "source": []
  }
 ],
 "metadata": {
  "kernelspec": {
   "display_name": "Python 3",
   "language": "python",
   "name": "python3"
  },
  "language_info": {
   "codemirror_mode": {
    "name": "ipython",
    "version": 3
   },
   "file_extension": ".py",
   "mimetype": "text/x-python",
   "name": "python",
   "nbconvert_exporter": "python",
   "pygments_lexer": "ipython3",
   "version": "3.4.3"
  }
 },
 "nbformat": 4,
 "nbformat_minor": 0
}
