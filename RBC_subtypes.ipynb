{
 "cells": [
  {
   "cell_type": "markdown",
   "metadata": {},
   "source": [
    "## Analysis of possible RBC subtypes\n",
    "The code in this notebook analyses differences between the RBCs contacting cones and rods and those contacting only rods in order to find evidence for or against two types of RBCs"
   ]
  },
  {
   "cell_type": "code",
   "execution_count": 1,
   "metadata": {
    "collapsed": false
   },
   "outputs": [],
   "source": [
    "import numpy as np\n",
    "from scipy.stats import itemfreq\n",
    "from scipy.io import loadmat\n",
    "from scipy.spatial import ConvexHull\n",
    "import pandas as pd\n",
    "import matplotlib\n",
    "import matplotlib.pyplot as plt\n",
    "import seaborn as sns\n",
    "from PIL import Image\n",
    "from PIL import ImageDraw\n",
    "from sklearn.mixture import GMM\n",
    "from shapely.geometry import Polygon\n",
    "%matplotlib inline\n",
    "matplotlib.rcParams.update({'font.size': 14})\n",
    "matplotlib.rcParams['font.family'] = 'sans-serif'\n",
    "matplotlib.rcParams['font.sans-serif'] = ['Arial']\n",
    "sns.set_style(\"whitegrid\")"
   ]
  },
  {
   "cell_type": "markdown",
   "metadata": {},
   "source": [
    "### Import data"
   ]
  },
  {
   "cell_type": "code",
   "execution_count": 3,
   "metadata": {
    "collapsed": false
   },
   "outputs": [],
   "source": [
    "cone_contacts=pd.read_pickle('data/cone_contact_predictions')\n",
    "rod_contacts=pd.read_pickle('data/rod_contact_predictions')\n",
    "BC_IDs=np.loadtxt('data/BC_IDs_new')\n",
    "ID_table=np.loadtxt('data/cell_IDs.csv',dtype=int,delimiter=',')\n",
    "BC_in_rod_area=np.loadtxt('data/BC_in_rod_area')\n",
    "BC_excluded=np.array([691,709,827,836])"
   ]
  },
  {
   "cell_type": "code",
   "execution_count": 4,
   "metadata": {
    "collapsed": false
   },
   "outputs": [],
   "source": [
    "rbc=BC_IDs[(BC_IDs[:,4]>70)&np.in1d(BC_IDs[:,0],BC_in_rod_area)&np.in1d(BC_IDs[:,0],BC_excluded,invert=True),0]"
   ]
  },
  {
   "cell_type": "code",
   "execution_count": 5,
   "metadata": {
    "collapsed": false
   },
   "outputs": [],
   "source": [
    "rbc_rod_contacts=rod_contacts.ix[(rod_contacts['prediction']==1)]\n",
    "rbc_rod_contacts=rbc_rod_contacts[np.in1d(rbc_rod_contacts['cell'],rbc)].reset_index().drop('index',axis=1)"
   ]
  },
  {
   "cell_type": "code",
   "execution_count": 6,
   "metadata": {
    "collapsed": false
   },
   "outputs": [],
   "source": [
    "rbc_cone_contacts=cone_contacts.ix[(cone_contacts['prediction']==1)]\n",
    "rbc_cone_input=np.unique(rbc_cone_contacts[np.in1d(rbc_cone_contacts['cell'],BC_excluded,invert=True)&\\\n",
    "                                           np.in1d(rbc_cone_contacts['cell'],BC_IDs[BC_IDs[:,4]==71,0])]['cell']).astype(int)\n",
    "rbc_rod_input=BC_IDs[(BC_IDs[:,4]==71)&np.in1d(BC_IDs[:,0],rbc_cone_input,invert=True)&np.in1d(BC_IDs[:,0],BC_excluded,invert=True),0].astype(int)\n",
    "rbc_cone_contacts=rbc_cone_contacts[np.in1d(rbc_cone_contacts['cell'],rbc)].reset_index().drop('index',axis=1)"
   ]
  },
  {
   "cell_type": "code",
   "execution_count": 7,
   "metadata": {
    "collapsed": false
   },
   "outputs": [],
   "source": [
    "#mean(on_sac)=6327, mean(off_sac)=5403\n",
    "x_start=-5403*(0.62-0.28)/(6327-5403)+0.28\n",
    "x_end=10000*(0.62-0.28)/(6327-5403)+x_start\n",
    "x_scale=np.linspace(x_start*100,x_end*100,10000)"
   ]
  },
  {
   "cell_type": "code",
   "execution_count": 8,
   "metadata": {
    "collapsed": true
   },
   "outputs": [],
   "source": [
    "skeleton_data=loadmat('data/skeletons_OPL_final.mat')\n",
    "skeleton_ids=skeleton_data['kn_allSkeletons_e2006_IDs'].flatten()\n",
    "skeletons=skeleton_data['kn_allSkeletons_e2006'].flatten()\n",
    "M=np.loadtxt('data/coordinate_rotation')\n",
    "soma_data=loadmat('data/soma_positions.mat')\n",
    "soma_pos=soma_data['kn_e2006_ALLSKELETONS_FINAL2012_allSomata']\n",
    "soma_internal_ids=soma_data['kn_e2006_ALLSKELETONS_FINAL2012_cellIDs']\n",
    "soma_line_ids=soma_data['kn_e2006_ALLSKELETONS_FINAL2012_cellIDs_pure_forSomata']\n",
    "soma_pos=np.dot(M,soma_pos[:,:3].T).T\n",
    "soma_positions=[]\n",
    "for i in range(BC_IDs.shape[0]):\n",
    "    soma_positions.append(soma_pos[soma_line_ids[0,np.where(soma_internal_ids==BC_IDs[i,1])[1][0]]-1,:])\n",
    "soma_positions=np.array(soma_positions)"
   ]
  },
  {
   "cell_type": "markdown",
   "metadata": {},
   "source": [
    "#### Number of rod contacts (Supp. figure 3B)"
   ]
  },
  {
   "cell_type": "code",
   "execution_count": 9,
   "metadata": {
    "collapsed": false
   },
   "outputs": [],
   "source": [
    "stat_bc_contacts=pd.DataFrame(rbc,columns=['cell'])\n",
    "contact_freq_rbc=itemfreq(rbc_rod_contacts['cell'].as_matrix())\n",
    "for i in range(stat_bc_contacts.shape[0]):\n",
    "    stat_bc_contacts.loc[i,'count']=0\n",
    "    try:\n",
    "        stat_bc_contacts.ix[i,'count']=contact_freq_rbc[contact_freq_rbc[:,0]==stat_bc_contacts.ix[i,'cell'],1]\n",
    "    except ValueError:\n",
    "        continue"
   ]
  },
  {
   "cell_type": "code",
   "execution_count": 10,
   "metadata": {
    "collapsed": false
   },
   "outputs": [],
   "source": [
    "for i in range(stat_bc_contacts.shape[0]):\n",
    "    if stat_bc_contacts.ix[i,'cell'] in np.unique(rbc_cone_contacts['cell']):\n",
    "        stat_bc_contacts.loc[i,'cone_contacts']=1\n",
    "    else:\n",
    "        stat_bc_contacts.loc[i,'cone_contacts']=0"
   ]
  },
  {
   "cell_type": "code",
   "execution_count": 11,
   "metadata": {
    "collapsed": false
   },
   "outputs": [
    {
     "data": {
      "image/png": "[encoded data removed]",
      "text/plain": [
       "<matplotlib.figure.Figure at 0x7fb6e066ad68>"
      ]
     },
     "metadata": {},
     "output_type": "display_data"
    }
   ],
   "source": [
    "sns.set(font='Arial',style='white',context='paper',rc={\"xtick.major.size\": 0, \"ytick.major.size\": 4})\n",
    "with matplotlib.rc_context({\"lines.linewidth\": 0.7}):\n",
    "    plt.figure(figsize=(3/2.54,4/2.54))\n",
    "    ax=sns.pointplot(x='cone_contacts',y='count',data=stat_bc_contacts,ci=95,order=[0,1], \\\n",
    "                     linestyles='',markers='s',scale=1.5,color='black')\n",
    "    ax.set(ylabel='# rods',ylim=(0,42),yticks=[0,10,20,30,40],xlabel='',xticklabels=['Rods\\nonly','Rods +\\ncones'],xticks=[-0.1,1.1])\n",
    "    sns.despine()\n",
    "    ax.spines['left'].set_position(('outward',3))\n",
    "#     plt.savefig('figures/rbc_rod_contact_comparison.svg',bbox_inches='tight',dpi=300)\n",
    "    plt.show()"
   ]
  },
  {
   "cell_type": "markdown",
   "metadata": {},
   "source": [
    "#### AII connectivity (Supp. figure 3C)"
   ]
  },
  {
   "cell_type": "code",
   "execution_count": 12,
   "metadata": {
    "collapsed": false
   },
   "outputs": [],
   "source": [
    "connectivity=loadmat('data/Helmstaedter_et_al_SUPPLinformation5.mat')['kn_allContactData_Interfaces_duplCorr_output_IDconv']"
   ]
  },
  {
   "cell_type": "code",
   "execution_count": 13,
   "metadata": {
    "collapsed": false
   },
   "outputs": [],
   "source": [
    "rbc_ids=ID_table[ID_table[:,3]==71,0]\n",
    "ac_ids=ID_table[ID_table[:,3]==24,0]\n",
    "rbc_ac_contacts=connectivity[np.in1d(connectivity[:,0],ac_ids)&np.in1d(connectivity[:,1],rbc_ids)]"
   ]
  },
  {
   "cell_type": "code",
   "execution_count": 14,
   "metadata": {
    "collapsed": false
   },
   "outputs": [],
   "source": [
    "ac_connectivity=pd.DataFrame(BC_IDs[(BC_IDs[:,4]==71)&np.in1d(BC_IDs[:,0],BC_excluded,invert=True),0],columns=['rbc'])\n",
    "for i in range(ac_connectivity.shape[0]):\n",
    "    if ac_connectivity.ix[i,'rbc'] in rbc_cone_input:\n",
    "        ac_connectivity.loc[i,'cone_input']=1\n",
    "    else:\n",
    "        ac_connectivity.loc[i,'cone_input']=0\n",
    "    ac_connectivity.loc[i,'area']=np.sum(rbc_ac_contacts[rbc_ac_contacts[:,1]==ac_connectivity.ix[i,'rbc'],2])\n",
    "ac_connectivity=ac_connectivity[ac_connectivity['area']>0].reset_index().drop('index',axis=1)"
   ]
  },
  {
   "cell_type": "code",
   "execution_count": 15,
   "metadata": {
    "collapsed": false
   },
   "outputs": [
    {
     "data": {
      "image/png": "[encoded data removed]",
      "text/plain": [
       "<matplotlib.figure.Figure at 0x7fb6c36c0d30>"
      ]
     },
     "metadata": {},
     "output_type": "display_data"
    }
   ],
   "source": [
    "sns.set(font='Arial',style='white',context='paper',rc={\"xtick.major.size\": 0, \"ytick.major.size\": 4,\"mathtext.default\":'regular'})\n",
    "with matplotlib.rc_context({\"lines.linewidth\": 0.7}):\n",
    "    plt.figure(figsize=(3/2.54,4/2.54))\n",
    "#     plt.figure(figsize=(3,4))\n",
    "    ax=sns.pointplot(x='cone_input',y='area',data=ac_connectivity,ci=95,order=[0,1],\\\n",
    "                     linestyles='',markers='s',scale=1.5,color='black')\n",
    "    ax.set(ylim=(0,27),yticks=[0,5,10,15,20,25],xlabel='',xticklabels=['Rods\\nonly','Rods +\\ncones'],xticks=[-0.1,1.1])\n",
    "    ax.set_ylabel('AII contact area [$\\mu m^2$]')\n",
    "    sns.despine()\n",
    "    ax.spines['left'].set_position(('outward',3))\n",
    "#     plt.savefig('figures/rbc_AII_contacts.svg',bbox_inches='tight',dpi=300)\n",
    "    plt.show()"
   ]
  },
  {
   "cell_type": "markdown",
   "metadata": {},
   "source": [
    "#### Density from flattened OFF- and ON-SAC (Supp. figure 3A, top)"
   ]
  },
  {
   "cell_type": "code",
   "execution_count": 16,
   "metadata": {
    "collapsed": false
   },
   "outputs": [],
   "source": [
    "volume_density=np.loadtxt('data/density_data_BC_flattened.gz')\n",
    "volume_density=volume_density[:,BC_IDs[:,3]==71]"
   ]
  },
  {
   "cell_type": "code",
   "execution_count": 17,
   "metadata": {
    "collapsed": false
   },
   "outputs": [
    {
     "data": {
      "image/png": "[encoded data removed]",
      "text/plain": [
       "<matplotlib.figure.Figure at 0x7fb6bb513b38>"
      ]
     },
     "metadata": {},
     "output_type": "display_data"
    }
   ],
   "source": [
    "plt.figure(figsize=(8/2.54,3/2.54))\n",
    "sns.set(font='Arial',style='white',context='paper',rc={\"xtick.major.size\": 4, \"ytick.major.size\": 0})\n",
    "plt.fill_between(x_scale,(np.mean(volume_density[:,rbc_cone_input-697],axis=1)-np.std(volume_density[:,rbc_cone_input-697],axis=1)/np.sqrt(len(rbc_cone_input)-1))\\\n",
    "                 /np.sum(np.mean(volume_density[:,rbc_cone_input-697],axis=1)),\\\n",
    "                 (np.mean(volume_density[:,rbc_cone_input-697],axis=1)+np.std(volume_density[:,rbc_cone_input-697],axis=1)/np.sqrt(len(rbc_cone_input)-1))\\\n",
    "                 /np.sum(np.mean(volume_density[:,rbc_cone_input-697],axis=1)),facecolor='0.5',alpha=0.3)\n",
    "plt.fill_between(x_scale,(np.mean(volume_density[:,rbc_rod_input-697],axis=1)-np.std(volume_density[:,rbc_rod_input-697],axis=1)/np.sqrt(len(rbc_rod_input)-1))\\\n",
    "                 /np.sum(np.mean(volume_density[:,rbc_rod_input-697],axis=1)),\\\n",
    "                 (np.mean(volume_density[:,rbc_rod_input-697],axis=1)+np.std(volume_density[:,rbc_rod_input-697],axis=1)/np.sqrt(len(rbc_rod_input)-1))\\\n",
    "                 /np.sum(np.mean(volume_density[:,rbc_rod_input-697],axis=1)),facecolor='0.7',alpha=0.3)\n",
    "\n",
    "plt.plot(x_scale,np.sum(volume_density[:,rbc_cone_input-697],axis=1)/np.sum(volume_density[:,rbc_cone_input-697]),label='rod and cone contacts',c='0.3')\n",
    "plt.plot(x_scale,np.sum(volume_density[:,rbc_rod_input-697],axis=1)/np.sum(volume_density[:,rbc_rod_input-697]),label='rod contacts only',c='0.6')\n",
    "plt.xlabel('IPL depths [%]')\n",
    "plt.ylabel('Density')\n",
    "plt.yticks([])\n",
    "plt.xlim(50,110)\n",
    "sns.despine()\n",
    "plt.legend(bbox_to_anchor=(0.65, 1.13))\n",
    "# plt.savefig('figures/rbc_density_comparision.svg',bbox_inches='tight',dpi=300,transparent=True)\n",
    "plt.show()"
   ]
  },
  {
   "cell_type": "markdown",
   "metadata": {},
   "source": [
    "#### Density aligned on ON-SAC (Supp. figure 3A, bottom)"
   ]
  },
  {
   "cell_type": "code",
   "execution_count": 18,
   "metadata": {
    "collapsed": false
   },
   "outputs": [],
   "source": [
    "rbc_densities=np.loadtxt('data/density_data_RBC_ON_SAC_alignment.gz')"
   ]
  },
  {
   "cell_type": "code",
   "execution_count": 19,
   "metadata": {
    "collapsed": false
   },
   "outputs": [
    {
     "data": {
      "image/png": "[encoded data removed]",
      "text/plain": [
       "<matplotlib.figure.Figure at 0x7fb66a2b6710>"
      ]
     },
     "metadata": {},
     "output_type": "display_data"
    }
   ],
   "source": [
    "plt.figure(figsize=(8/2.54,3/2.54))\n",
    "# plt.figure(figsize=(8,3))\n",
    "sns.set(font='Arial',style='white',context='paper',rc={\"xtick.major.size\": 4, \"ytick.major.size\": 0})\n",
    "plt.fill_between(x_scale,(np.mean(rbc_densities[:,rbc_cone_input-697],axis=1)-np.std(rbc_densities[:,rbc_cone_input-697],axis=1)/np.sqrt(len(rbc_cone_input)-1))\\\n",
    "                 /np.sum(np.mean(rbc_densities[:,rbc_cone_input-697],axis=1)),\\\n",
    "                 (np.mean(rbc_densities[:,rbc_cone_input-697],axis=1)+np.std(rbc_densities[:,rbc_cone_input-697],axis=1)/np.sqrt(len(rbc_cone_input)-1))\\\n",
    "                 /np.sum(np.mean(rbc_densities[:,rbc_cone_input-697],axis=1)),facecolor='0.5',alpha=0.3)\n",
    "plt.fill_between(x_scale,(np.mean(rbc_densities[:,rbc_rod_input-697],axis=1)-np.std(rbc_densities[:,rbc_rod_input-697],axis=1)/np.sqrt(len(rbc_rod_input)-1))\\\n",
    "                 /np.sum(np.mean(rbc_densities[:,rbc_rod_input-697],axis=1)),\\\n",
    "                 (np.mean(rbc_densities[:,rbc_rod_input-697],axis=1)+np.std(rbc_densities[:,rbc_rod_input-697],axis=1)/np.sqrt(len(rbc_rod_input)-1))\\\n",
    "                 /np.sum(np.mean(rbc_densities[:,rbc_rod_input-697],axis=1)),facecolor='0.7',alpha=0.3)\n",
    "plt.plot(x_scale,np.sum(rbc_densities[:,rbc_cone_input-697],axis=1)/np.sum(rbc_densities[:,rbc_cone_input-697]),label='rod and cone contacts',c='0.3')\n",
    "plt.plot(x_scale,np.sum(rbc_densities[:,rbc_rod_input-697],axis=1)/np.sum(rbc_densities[:,rbc_rod_input-697]),label='rod contacts only',c='0.6')\n",
    "plt.xlabel('IPL depths [%]')\n",
    "plt.ylabel('Density')\n",
    "plt.yticks([])\n",
    "plt.xlim(50,110)\n",
    "sns.despine()\n",
    "plt.legend(bbox_to_anchor=(0.65, 1.13))\n",
    "# plt.savefig('figures/rbc_density_comparision_on_sac_only.svg',bbox_inches='tight',dpi=300,transparent=True)\n",
    "plt.show()"
   ]
  },
  {
   "cell_type": "markdown",
   "metadata": {
    "collapsed": false
   },
   "source": [
    "#### Plot dendritic fields/axon terminals (Supp. figure 3D)"
   ]
  },
  {
   "cell_type": "code",
   "execution_count": 20,
   "metadata": {
    "collapsed": false
   },
   "outputs": [],
   "source": [
    "#Function definition for mosaic plotting\n",
    "def plot_mosaic(selection,layer='OPL'):\n",
    "    im=Image.new('RGBA',(4800,3600),(255,255,255,0))\n",
    "    draw = ImageDraw.Draw(im)\n",
    "    draw.line([(0,0),(0,3599)],fill=(0,0,255,255),width=1)\n",
    "    draw.line([(0,3599),(4799,3599)],fill=(0,0,255,255),width=1)\n",
    "    draw.line([(4799,3599),(4799,0)],fill=(0,0,255,255),width=1)\n",
    "    draw.line([(4799,0),(0,0)],fill=(0,0,255,255),width=1)\n",
    "    del draw\n",
    "    for cell in BC_IDs[selection,0]:\n",
    "        nodes_cell=np.empty((0,3))\n",
    "        for skel in np.where(skeleton_ids==cell)[0]:\n",
    "            nodes=skeletons[skel].item()[list(skeletons[skel].dtype.names).index('nodes')][:,:3]/[16.5,16.5,25]\n",
    "            if nodes.shape[0]<2:\n",
    "                continue\n",
    "            nodes=np.dot(M,nodes.T).T\n",
    "            edges=skeletons[skel].item()[list(skeletons[skel].dtype.names).index('edges')]\n",
    "            soma_pos_cell=soma_positions[BC_IDs[:,0]==cell,0]*16.5\n",
    "            draw = ImageDraw.Draw(im)\n",
    "            if layer=='OPL':\n",
    "                nodes=(nodes*[16.5,16.5,25]+[0,3250,15000]).astype(int)\n",
    "                for i in range(edges.shape[0]):\n",
    "                    if (nodes[edges[i,0]-1,0]<soma_pos_cell) and (nodes[edges[i,1]-1,0]<soma_pos_cell):\n",
    "                        draw.line([tuple(nodes[edges[i,0]-1,1:3]/[25,25]),tuple(nodes[edges[i,1]-1,1:3]/[25,25])],fill=(0,0,0,150),width=5)\n",
    "                del draw\n",
    "                nodes=nodes[np.unique(edges).astype(int)-1,:]\n",
    "                nodes_cell=np.concatenate((nodes_cell,nodes[nodes[:,0]<soma_pos_cell,0:3]),axis=0)\n",
    "            elif layer=='IPL':\n",
    "                nodes=(nodes*[16.5,16.5,25]+[0,5000,22750]).astype(int)\n",
    "                for i in range(edges.shape[0]):\n",
    "                    if (nodes[edges[i,0]-1,0]>soma_pos_cell) and (nodes[edges[i,1]-1,0]>soma_pos_cell):\n",
    "                        draw.line([tuple(nodes[edges[i,0]-1,1:3]/[25,25]),tuple(nodes[edges[i,1]-1,1:3]/[25,25])],fill=(0,0,0,150),width=5)\n",
    "                del draw\n",
    "                nodes=nodes[np.unique(edges).astype(int)-1,:]\n",
    "                nodes_cell=np.concatenate((nodes_cell,nodes[nodes[:,0]>soma_pos_cell,0:3]),axis=0)\n",
    "            else:\n",
    "                print(\"Layer has to be 'IPL' or 'OPL'\")\n",
    "                return im\n",
    "        if nodes_cell.shape[0]>2:\n",
    "            nodes_cell=nodes_cell[:,1:]/[25,25]\n",
    "            hull=ConvexHull(nodes_cell)\n",
    "            draw = ImageDraw.Draw(im)\n",
    "            for simplex in hull.simplices:\n",
    "                draw.line([tuple(nodes_cell[simplex[0],:]),tuple(nodes_cell[simplex[1],:])],fill=(0,0,255,255),width=5)\n",
    "            del draw\n",
    "    return im"
   ]
  },
  {
   "cell_type": "code",
   "execution_count": null,
   "metadata": {
    "collapsed": false
   },
   "outputs": [],
   "source": [
    "plot_mosaic(rbc_rod_input-390,'OPL')"
   ]
  },
  {
   "cell_type": "code",
   "execution_count": null,
   "metadata": {
    "collapsed": true
   },
   "outputs": [],
   "source": [
    "plot_mosaic(rbc_rod_input-390,'IPL')"
   ]
  },
  {
   "cell_type": "code",
   "execution_count": null,
   "metadata": {
    "collapsed": true
   },
   "outputs": [],
   "source": [
    "plot_mosaic(rbc_cone_input-390,'OPL')"
   ]
  },
  {
   "cell_type": "code",
   "execution_count": null,
   "metadata": {
    "collapsed": true
   },
   "outputs": [],
   "source": [
    "plot_mosaic(rbc_cone_input-390,'IPL')"
   ]
  }
 ],
 "metadata": {
  "kernelspec": {
   "display_name": "Python 3",
   "language": "python",
   "name": "python3"
  },
  "language_info": {
   "codemirror_mode": {
    "name": "ipython",
    "version": 3
   },
   "file_extension": ".py",
   "mimetype": "text/x-python",
   "name": "python",
   "nbconvert_exporter": "python",
   "pygments_lexer": "ipython3",
   "version": "3.4.3"
  }
 },
 "nbformat": 4,
 "nbformat_minor": 0
}
